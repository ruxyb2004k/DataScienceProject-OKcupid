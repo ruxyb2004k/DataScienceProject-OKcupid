{
 "cells": [
  {
   "cell_type": "markdown",
   "metadata": {},
   "source": [
    "# OkCupid Date-A-Scientist"
   ]
  },
  {
   "cell_type": "markdown",
   "metadata": {},
   "source": [
    "## Motivation of the project\n",
    "In recent years, there has been a massive rise in the usage of dating apps to find love. Many of these apps use sophisticated data science techniques to recommend possible matches to users and to optimize the user experience. These apps give us access to a wealth of information that we’ve never had before about how different people experience romance.\n",
    "\n",
    "In this portfolio project, I will analyze data from OKCupid, an app that focuses on using multiple choice and short answers to match users."
   ]
  },
  {
   "cell_type": "markdown",
   "metadata": {},
   "source": [
    "## Scoping\n",
    "\n",
    "### Project Goals\n",
    "\n",
    "In this project, the goal is to utilize the skills learned through Codecademy and apply machine learning techniques to a data set. The following questions will be addressed in this study:\n",
    "1. Can the open answers predict the sex of the user?\n",
    "2. Can age, height and income predict a user's sex?\n",
    "3. Can a user's astrological sign be predicted from other features of the user?\n",
    "4. Bonus: is there a wage difference between the male and female users?\n",
    "\n",
    "### Data\n",
    "\n",
    "The project has one data set provided by Codecademy called `profiles.csv`. In the data, each row represents an OkCupid user and the columns are the responses to their user profiles which include multi-choice and short answer questions.\n",
    "\n",
    "### Analysis\n",
    "\n",
    "This solution will use descriptive statistics and data visualization to find key figures in understanding the distribution, count, and relationship between variables. \n",
    "\n",
    "### Evaluation\n",
    "\n",
    "The project will conclude with the evaluation of the machine learning model selected with a validation data set. The output of the predictions can be checked through a confusion matrix, and metrics such as accuracy, precision, recall and F1 scores. "
   ]
  },
  {
   "cell_type": "markdown",
   "metadata": {},
   "source": [
    "### OkCupid profile data loading"
   ]
  },
  {
   "cell_type": "markdown",
   "metadata": {},
   "source": [
    "Load profile data into a `DataFrame` called `profiles`."
   ]
  },
  {
   "cell_type": "code",
   "execution_count": 1,
   "metadata": {},
   "outputs": [
    {
     "name": "stderr",
     "output_type": "stream",
     "text": [
      "C:\\Users\\Ruxi\\anaconda3\\lib\\site-packages\\scipy\\__init__.py:146: UserWarning: A NumPy version >=1.16.5 and <1.23.0 is required for this version of SciPy (detected version 1.23.2\n",
      "  warnings.warn(f\"A NumPy version >={np_minversion} and <{np_maxversion}\"\n"
     ]
    }
   ],
   "source": [
    "import numpy as np\n",
    "import pandas as pd\n",
    "pd.set_option('display.max_columns', None)\n",
    "\n",
    "import seaborn as sns\n",
    "from matplotlib import pyplot as plt\n",
    "plt.rcParams['figure.figsize'] = [6, 6]\n",
    "%matplotlib inline\n",
    "\n",
    "import warnings\n",
    "warnings.filterwarnings('ignore')"
   ]
  },
  {
   "cell_type": "code",
   "execution_count": 2,
   "metadata": {},
   "outputs": [],
   "source": [
    "profiles = pd.read_csv('profiles.csv')"
   ]
  },
  {
   "cell_type": "markdown",
   "metadata": {},
   "source": [
    "Display the first rows of `profiles`"
   ]
  },
  {
   "cell_type": "code",
   "execution_count": 3,
   "metadata": {},
   "outputs": [
    {
     "data": {
      "text/html": [
       "<div>\n",
       "<style scoped>\n",
       "    .dataframe tbody tr th:only-of-type {\n",
       "        vertical-align: middle;\n",
       "    }\n",
       "\n",
       "    .dataframe tbody tr th {\n",
       "        vertical-align: top;\n",
       "    }\n",
       "\n",
       "    .dataframe thead th {\n",
       "        text-align: right;\n",
       "    }\n",
       "</style>\n",
       "<table border=\"1\" class=\"dataframe\">\n",
       "  <thead>\n",
       "    <tr style=\"text-align: right;\">\n",
       "      <th></th>\n",
       "      <th>age</th>\n",
       "      <th>body_type</th>\n",
       "      <th>diet</th>\n",
       "      <th>drinks</th>\n",
       "      <th>drugs</th>\n",
       "      <th>education</th>\n",
       "      <th>essay0</th>\n",
       "      <th>essay1</th>\n",
       "      <th>essay2</th>\n",
       "      <th>essay3</th>\n",
       "      <th>essay4</th>\n",
       "      <th>essay5</th>\n",
       "      <th>essay6</th>\n",
       "      <th>essay7</th>\n",
       "      <th>essay8</th>\n",
       "      <th>essay9</th>\n",
       "      <th>ethnicity</th>\n",
       "      <th>height</th>\n",
       "      <th>income</th>\n",
       "      <th>job</th>\n",
       "      <th>last_online</th>\n",
       "      <th>location</th>\n",
       "      <th>offspring</th>\n",
       "      <th>orientation</th>\n",
       "      <th>pets</th>\n",
       "      <th>religion</th>\n",
       "      <th>sex</th>\n",
       "      <th>sign</th>\n",
       "      <th>smokes</th>\n",
       "      <th>speaks</th>\n",
       "      <th>status</th>\n",
       "    </tr>\n",
       "  </thead>\n",
       "  <tbody>\n",
       "    <tr>\n",
       "      <th>0</th>\n",
       "      <td>22</td>\n",
       "      <td>a little extra</td>\n",
       "      <td>strictly anything</td>\n",
       "      <td>socially</td>\n",
       "      <td>never</td>\n",
       "      <td>working on college/university</td>\n",
       "      <td>about me:&lt;br /&gt;\\n&lt;br /&gt;\\ni would love to think...</td>\n",
       "      <td>currently working as an international agent fo...</td>\n",
       "      <td>making people laugh.&lt;br /&gt;\\nranting about a go...</td>\n",
       "      <td>the way i look. i am a six foot half asian, ha...</td>\n",
       "      <td>books:&lt;br /&gt;\\nabsurdistan, the republic, of mi...</td>\n",
       "      <td>food.&lt;br /&gt;\\nwater.&lt;br /&gt;\\ncell phone.&lt;br /&gt;\\n...</td>\n",
       "      <td>duality and humorous things</td>\n",
       "      <td>trying to find someone to hang out with. i am ...</td>\n",
       "      <td>i am new to california and looking for someone...</td>\n",
       "      <td>you want to be swept off your feet!&lt;br /&gt;\\nyou...</td>\n",
       "      <td>asian, white</td>\n",
       "      <td>75.0</td>\n",
       "      <td>-1</td>\n",
       "      <td>transportation</td>\n",
       "      <td>2012-06-28-20-30</td>\n",
       "      <td>south san francisco, california</td>\n",
       "      <td>doesn&amp;rsquo;t have kids, but might want them</td>\n",
       "      <td>straight</td>\n",
       "      <td>likes dogs and likes cats</td>\n",
       "      <td>agnosticism and very serious about it</td>\n",
       "      <td>m</td>\n",
       "      <td>gemini</td>\n",
       "      <td>sometimes</td>\n",
       "      <td>english</td>\n",
       "      <td>single</td>\n",
       "    </tr>\n",
       "    <tr>\n",
       "      <th>1</th>\n",
       "      <td>35</td>\n",
       "      <td>average</td>\n",
       "      <td>mostly other</td>\n",
       "      <td>often</td>\n",
       "      <td>sometimes</td>\n",
       "      <td>working on space camp</td>\n",
       "      <td>i am a chef: this is what that means.&lt;br /&gt;\\n1...</td>\n",
       "      <td>dedicating everyday to being an unbelievable b...</td>\n",
       "      <td>being silly. having ridiculous amonts of fun w...</td>\n",
       "      <td>NaN</td>\n",
       "      <td>i am die hard christopher moore fan. i don't r...</td>\n",
       "      <td>delicious porkness in all of its glories.&lt;br /...</td>\n",
       "      <td>NaN</td>\n",
       "      <td>NaN</td>\n",
       "      <td>i am very open and will share just about anyth...</td>\n",
       "      <td>NaN</td>\n",
       "      <td>white</td>\n",
       "      <td>70.0</td>\n",
       "      <td>80000</td>\n",
       "      <td>hospitality / travel</td>\n",
       "      <td>2012-06-29-21-41</td>\n",
       "      <td>oakland, california</td>\n",
       "      <td>doesn&amp;rsquo;t have kids, but might want them</td>\n",
       "      <td>straight</td>\n",
       "      <td>likes dogs and likes cats</td>\n",
       "      <td>agnosticism but not too serious about it</td>\n",
       "      <td>m</td>\n",
       "      <td>cancer</td>\n",
       "      <td>no</td>\n",
       "      <td>english (fluently), spanish (poorly), french (...</td>\n",
       "      <td>single</td>\n",
       "    </tr>\n",
       "    <tr>\n",
       "      <th>2</th>\n",
       "      <td>38</td>\n",
       "      <td>thin</td>\n",
       "      <td>anything</td>\n",
       "      <td>socially</td>\n",
       "      <td>NaN</td>\n",
       "      <td>graduated from masters program</td>\n",
       "      <td>i'm not ashamed of much, but writing public te...</td>\n",
       "      <td>i make nerdy software for musicians, artists, ...</td>\n",
       "      <td>improvising in different contexts. alternating...</td>\n",
       "      <td>my large jaw and large glasses are the physica...</td>\n",
       "      <td>okay this is where the cultural matrix gets so...</td>\n",
       "      <td>movement&lt;br /&gt;\\nconversation&lt;br /&gt;\\ncreation&lt;b...</td>\n",
       "      <td>NaN</td>\n",
       "      <td>viewing. listening. dancing. talking. drinking...</td>\n",
       "      <td>when i was five years old, i was known as \"the...</td>\n",
       "      <td>you are bright, open, intense, silly, ironic, ...</td>\n",
       "      <td>NaN</td>\n",
       "      <td>68.0</td>\n",
       "      <td>-1</td>\n",
       "      <td>NaN</td>\n",
       "      <td>2012-06-27-09-10</td>\n",
       "      <td>san francisco, california</td>\n",
       "      <td>NaN</td>\n",
       "      <td>straight</td>\n",
       "      <td>has cats</td>\n",
       "      <td>NaN</td>\n",
       "      <td>m</td>\n",
       "      <td>pisces but it doesn&amp;rsquo;t matter</td>\n",
       "      <td>no</td>\n",
       "      <td>english, french, c++</td>\n",
       "      <td>available</td>\n",
       "    </tr>\n",
       "    <tr>\n",
       "      <th>3</th>\n",
       "      <td>23</td>\n",
       "      <td>thin</td>\n",
       "      <td>vegetarian</td>\n",
       "      <td>socially</td>\n",
       "      <td>NaN</td>\n",
       "      <td>working on college/university</td>\n",
       "      <td>i work in a library and go to school. . .</td>\n",
       "      <td>reading things written by old dead people</td>\n",
       "      <td>playing synthesizers and organizing books acco...</td>\n",
       "      <td>socially awkward but i do my best</td>\n",
       "      <td>bataille, celine, beckett. . .&lt;br /&gt;\\nlynch, j...</td>\n",
       "      <td>NaN</td>\n",
       "      <td>cats and german philosophy</td>\n",
       "      <td>NaN</td>\n",
       "      <td>NaN</td>\n",
       "      <td>you feel so inclined.</td>\n",
       "      <td>white</td>\n",
       "      <td>71.0</td>\n",
       "      <td>20000</td>\n",
       "      <td>student</td>\n",
       "      <td>2012-06-28-14-22</td>\n",
       "      <td>berkeley, california</td>\n",
       "      <td>doesn&amp;rsquo;t want kids</td>\n",
       "      <td>straight</td>\n",
       "      <td>likes cats</td>\n",
       "      <td>NaN</td>\n",
       "      <td>m</td>\n",
       "      <td>pisces</td>\n",
       "      <td>no</td>\n",
       "      <td>english, german (poorly)</td>\n",
       "      <td>single</td>\n",
       "    </tr>\n",
       "    <tr>\n",
       "      <th>4</th>\n",
       "      <td>29</td>\n",
       "      <td>athletic</td>\n",
       "      <td>NaN</td>\n",
       "      <td>socially</td>\n",
       "      <td>never</td>\n",
       "      <td>graduated from college/university</td>\n",
       "      <td>hey how's it going? currently vague on the pro...</td>\n",
       "      <td>work work work work + play</td>\n",
       "      <td>creating imagery to look at:&lt;br /&gt;\\nhttp://bag...</td>\n",
       "      <td>i smile a lot and my inquisitive nature</td>\n",
       "      <td>music: bands, rappers, musicians&lt;br /&gt;\\nat the...</td>\n",
       "      <td>NaN</td>\n",
       "      <td>NaN</td>\n",
       "      <td>NaN</td>\n",
       "      <td>NaN</td>\n",
       "      <td>NaN</td>\n",
       "      <td>asian, black, other</td>\n",
       "      <td>66.0</td>\n",
       "      <td>-1</td>\n",
       "      <td>artistic / musical / writer</td>\n",
       "      <td>2012-06-27-21-26</td>\n",
       "      <td>san francisco, california</td>\n",
       "      <td>NaN</td>\n",
       "      <td>straight</td>\n",
       "      <td>likes dogs and likes cats</td>\n",
       "      <td>NaN</td>\n",
       "      <td>m</td>\n",
       "      <td>aquarius</td>\n",
       "      <td>no</td>\n",
       "      <td>english</td>\n",
       "      <td>single</td>\n",
       "    </tr>\n",
       "  </tbody>\n",
       "</table>\n",
       "</div>"
      ],
      "text/plain": [
       "   age       body_type               diet    drinks      drugs  \\\n",
       "0   22  a little extra  strictly anything  socially      never   \n",
       "1   35         average       mostly other     often  sometimes   \n",
       "2   38            thin           anything  socially        NaN   \n",
       "3   23            thin         vegetarian  socially        NaN   \n",
       "4   29        athletic                NaN  socially      never   \n",
       "\n",
       "                           education  \\\n",
       "0      working on college/university   \n",
       "1              working on space camp   \n",
       "2     graduated from masters program   \n",
       "3      working on college/university   \n",
       "4  graduated from college/university   \n",
       "\n",
       "                                              essay0  \\\n",
       "0  about me:<br />\\n<br />\\ni would love to think...   \n",
       "1  i am a chef: this is what that means.<br />\\n1...   \n",
       "2  i'm not ashamed of much, but writing public te...   \n",
       "3          i work in a library and go to school. . .   \n",
       "4  hey how's it going? currently vague on the pro...   \n",
       "\n",
       "                                              essay1  \\\n",
       "0  currently working as an international agent fo...   \n",
       "1  dedicating everyday to being an unbelievable b...   \n",
       "2  i make nerdy software for musicians, artists, ...   \n",
       "3          reading things written by old dead people   \n",
       "4                         work work work work + play   \n",
       "\n",
       "                                              essay2  \\\n",
       "0  making people laugh.<br />\\nranting about a go...   \n",
       "1  being silly. having ridiculous amonts of fun w...   \n",
       "2  improvising in different contexts. alternating...   \n",
       "3  playing synthesizers and organizing books acco...   \n",
       "4  creating imagery to look at:<br />\\nhttp://bag...   \n",
       "\n",
       "                                              essay3  \\\n",
       "0  the way i look. i am a six foot half asian, ha...   \n",
       "1                                                NaN   \n",
       "2  my large jaw and large glasses are the physica...   \n",
       "3                  socially awkward but i do my best   \n",
       "4            i smile a lot and my inquisitive nature   \n",
       "\n",
       "                                              essay4  \\\n",
       "0  books:<br />\\nabsurdistan, the republic, of mi...   \n",
       "1  i am die hard christopher moore fan. i don't r...   \n",
       "2  okay this is where the cultural matrix gets so...   \n",
       "3  bataille, celine, beckett. . .<br />\\nlynch, j...   \n",
       "4  music: bands, rappers, musicians<br />\\nat the...   \n",
       "\n",
       "                                              essay5  \\\n",
       "0  food.<br />\\nwater.<br />\\ncell phone.<br />\\n...   \n",
       "1  delicious porkness in all of its glories.<br /...   \n",
       "2  movement<br />\\nconversation<br />\\ncreation<b...   \n",
       "3                                                NaN   \n",
       "4                                                NaN   \n",
       "\n",
       "                        essay6  \\\n",
       "0  duality and humorous things   \n",
       "1                          NaN   \n",
       "2                          NaN   \n",
       "3   cats and german philosophy   \n",
       "4                          NaN   \n",
       "\n",
       "                                              essay7  \\\n",
       "0  trying to find someone to hang out with. i am ...   \n",
       "1                                                NaN   \n",
       "2  viewing. listening. dancing. talking. drinking...   \n",
       "3                                                NaN   \n",
       "4                                                NaN   \n",
       "\n",
       "                                              essay8  \\\n",
       "0  i am new to california and looking for someone...   \n",
       "1  i am very open and will share just about anyth...   \n",
       "2  when i was five years old, i was known as \"the...   \n",
       "3                                                NaN   \n",
       "4                                                NaN   \n",
       "\n",
       "                                              essay9            ethnicity  \\\n",
       "0  you want to be swept off your feet!<br />\\nyou...         asian, white   \n",
       "1                                                NaN                white   \n",
       "2  you are bright, open, intense, silly, ironic, ...                  NaN   \n",
       "3                              you feel so inclined.                white   \n",
       "4                                                NaN  asian, black, other   \n",
       "\n",
       "   height  income                          job       last_online  \\\n",
       "0    75.0      -1               transportation  2012-06-28-20-30   \n",
       "1    70.0   80000         hospitality / travel  2012-06-29-21-41   \n",
       "2    68.0      -1                          NaN  2012-06-27-09-10   \n",
       "3    71.0   20000                      student  2012-06-28-14-22   \n",
       "4    66.0      -1  artistic / musical / writer  2012-06-27-21-26   \n",
       "\n",
       "                          location  \\\n",
       "0  south san francisco, california   \n",
       "1              oakland, california   \n",
       "2        san francisco, california   \n",
       "3             berkeley, california   \n",
       "4        san francisco, california   \n",
       "\n",
       "                                      offspring orientation  \\\n",
       "0  doesn&rsquo;t have kids, but might want them    straight   \n",
       "1  doesn&rsquo;t have kids, but might want them    straight   \n",
       "2                                           NaN    straight   \n",
       "3                       doesn&rsquo;t want kids    straight   \n",
       "4                                           NaN    straight   \n",
       "\n",
       "                        pets                                  religion sex  \\\n",
       "0  likes dogs and likes cats     agnosticism and very serious about it   m   \n",
       "1  likes dogs and likes cats  agnosticism but not too serious about it   m   \n",
       "2                   has cats                                       NaN   m   \n",
       "3                 likes cats                                       NaN   m   \n",
       "4  likes dogs and likes cats                                       NaN   m   \n",
       "\n",
       "                                 sign     smokes  \\\n",
       "0                              gemini  sometimes   \n",
       "1                              cancer         no   \n",
       "2  pisces but it doesn&rsquo;t matter         no   \n",
       "3                              pisces         no   \n",
       "4                            aquarius         no   \n",
       "\n",
       "                                              speaks     status  \n",
       "0                                            english     single  \n",
       "1  english (fluently), spanish (poorly), french (...     single  \n",
       "2                               english, french, c++  available  \n",
       "3                           english, german (poorly)     single  \n",
       "4                                            english     single  "
      ]
     },
     "execution_count": 3,
     "metadata": {},
     "output_type": "execute_result"
    }
   ],
   "source": [
    "profiles.head()"
   ]
  },
  {
   "cell_type": "markdown",
   "metadata": {},
   "source": [
    "Display all column names and the data type"
   ]
  },
  {
   "cell_type": "code",
   "execution_count": 4,
   "metadata": {
    "scrolled": true
   },
   "outputs": [
    {
     "name": "stdout",
     "output_type": "stream",
     "text": [
      "<class 'pandas.core.frame.DataFrame'>\n",
      "RangeIndex: 59946 entries, 0 to 59945\n",
      "Data columns (total 31 columns):\n",
      " #   Column       Non-Null Count  Dtype  \n",
      "---  ------       --------------  -----  \n",
      " 0   age          59946 non-null  int64  \n",
      " 1   body_type    54650 non-null  object \n",
      " 2   diet         35551 non-null  object \n",
      " 3   drinks       56961 non-null  object \n",
      " 4   drugs        45866 non-null  object \n",
      " 5   education    53318 non-null  object \n",
      " 6   essay0       54458 non-null  object \n",
      " 7   essay1       52374 non-null  object \n",
      " 8   essay2       50308 non-null  object \n",
      " 9   essay3       48470 non-null  object \n",
      " 10  essay4       49409 non-null  object \n",
      " 11  essay5       49096 non-null  object \n",
      " 12  essay6       46175 non-null  object \n",
      " 13  essay7       47495 non-null  object \n",
      " 14  essay8       40721 non-null  object \n",
      " 15  essay9       47343 non-null  object \n",
      " 16  ethnicity    54266 non-null  object \n",
      " 17  height       59943 non-null  float64\n",
      " 18  income       59946 non-null  int64  \n",
      " 19  job          51748 non-null  object \n",
      " 20  last_online  59946 non-null  object \n",
      " 21  location     59946 non-null  object \n",
      " 22  offspring    24385 non-null  object \n",
      " 23  orientation  59946 non-null  object \n",
      " 24  pets         40025 non-null  object \n",
      " 25  religion     39720 non-null  object \n",
      " 26  sex          59946 non-null  object \n",
      " 27  sign         48890 non-null  object \n",
      " 28  smokes       54434 non-null  object \n",
      " 29  speaks       59896 non-null  object \n",
      " 30  status       59946 non-null  object \n",
      "dtypes: float64(1), int64(2), object(28)\n",
      "memory usage: 14.2+ MB\n"
     ]
    }
   ],
   "source": [
    "profiles.info()"
   ]
  },
  {
   "cell_type": "markdown",
   "metadata": {},
   "source": [
    "Summary of missing points of each feature"
   ]
  },
  {
   "cell_type": "code",
   "execution_count": 5,
   "metadata": {},
   "outputs": [
    {
     "data": {
      "text/plain": [
       "age                0\n",
       "body_type       5296\n",
       "diet           24395\n",
       "drinks          2985\n",
       "drugs          14080\n",
       "education       6628\n",
       "essay0          5488\n",
       "essay1          7572\n",
       "essay2          9638\n",
       "essay3         11476\n",
       "essay4         10537\n",
       "essay5         10850\n",
       "essay6         13771\n",
       "essay7         12451\n",
       "essay8         19225\n",
       "essay9         12603\n",
       "ethnicity       5680\n",
       "height             3\n",
       "income             0\n",
       "job             8198\n",
       "last_online        0\n",
       "location           0\n",
       "offspring      35561\n",
       "orientation        0\n",
       "pets           19921\n",
       "religion       20226\n",
       "sex                0\n",
       "sign           11056\n",
       "smokes          5512\n",
       "speaks            50\n",
       "status             0\n",
       "dtype: int64"
      ]
     },
     "execution_count": 5,
     "metadata": {},
     "output_type": "execute_result"
    }
   ],
   "source": [
    "profiles.isnull().sum()"
   ]
  },
  {
   "cell_type": "markdown",
   "metadata": {},
   "source": [
    "#### Data characteristics\n",
    "\n",
    "The data has 59946 rows (users) and 31 columns (features).\n",
    "The data includes:\n",
    "- 3 numerical continuous features (`age`, `height`, `income`)\n",
    "- 18 categorical features\n",
    "- 10 open answer questions (`essay0`-`essay9`)."
   ]
  },
  {
   "cell_type": "markdown",
   "metadata": {},
   "source": [
    "Display a statistics summary of the numerical continuous features"
   ]
  },
  {
   "cell_type": "code",
   "execution_count": 6,
   "metadata": {
    "scrolled": false
   },
   "outputs": [
    {
     "data": {
      "text/html": [
       "<div>\n",
       "<style scoped>\n",
       "    .dataframe tbody tr th:only-of-type {\n",
       "        vertical-align: middle;\n",
       "    }\n",
       "\n",
       "    .dataframe tbody tr th {\n",
       "        vertical-align: top;\n",
       "    }\n",
       "\n",
       "    .dataframe thead th {\n",
       "        text-align: right;\n",
       "    }\n",
       "</style>\n",
       "<table border=\"1\" class=\"dataframe\">\n",
       "  <thead>\n",
       "    <tr style=\"text-align: right;\">\n",
       "      <th></th>\n",
       "      <th>age</th>\n",
       "      <th>height</th>\n",
       "      <th>income</th>\n",
       "    </tr>\n",
       "  </thead>\n",
       "  <tbody>\n",
       "    <tr>\n",
       "      <th>count</th>\n",
       "      <td>59946.000000</td>\n",
       "      <td>59943.000000</td>\n",
       "      <td>59946.000000</td>\n",
       "    </tr>\n",
       "    <tr>\n",
       "      <th>mean</th>\n",
       "      <td>32.340290</td>\n",
       "      <td>68.295281</td>\n",
       "      <td>20033.222534</td>\n",
       "    </tr>\n",
       "    <tr>\n",
       "      <th>std</th>\n",
       "      <td>9.452779</td>\n",
       "      <td>3.994803</td>\n",
       "      <td>97346.192104</td>\n",
       "    </tr>\n",
       "    <tr>\n",
       "      <th>min</th>\n",
       "      <td>18.000000</td>\n",
       "      <td>1.000000</td>\n",
       "      <td>-1.000000</td>\n",
       "    </tr>\n",
       "    <tr>\n",
       "      <th>25%</th>\n",
       "      <td>26.000000</td>\n",
       "      <td>66.000000</td>\n",
       "      <td>-1.000000</td>\n",
       "    </tr>\n",
       "    <tr>\n",
       "      <th>50%</th>\n",
       "      <td>30.000000</td>\n",
       "      <td>68.000000</td>\n",
       "      <td>-1.000000</td>\n",
       "    </tr>\n",
       "    <tr>\n",
       "      <th>75%</th>\n",
       "      <td>37.000000</td>\n",
       "      <td>71.000000</td>\n",
       "      <td>-1.000000</td>\n",
       "    </tr>\n",
       "    <tr>\n",
       "      <th>max</th>\n",
       "      <td>110.000000</td>\n",
       "      <td>95.000000</td>\n",
       "      <td>1000000.000000</td>\n",
       "    </tr>\n",
       "  </tbody>\n",
       "</table>\n",
       "</div>"
      ],
      "text/plain": [
       "                age        height          income\n",
       "count  59946.000000  59943.000000    59946.000000\n",
       "mean      32.340290     68.295281    20033.222534\n",
       "std        9.452779      3.994803    97346.192104\n",
       "min       18.000000      1.000000       -1.000000\n",
       "25%       26.000000     66.000000       -1.000000\n",
       "50%       30.000000     68.000000       -1.000000\n",
       "75%       37.000000     71.000000       -1.000000\n",
       "max      110.000000     95.000000  1000000.000000"
      ]
     },
     "execution_count": 6,
     "metadata": {},
     "output_type": "execute_result"
    }
   ],
   "source": [
    "profiles.describe()"
   ]
  },
  {
   "cell_type": "markdown",
   "metadata": {},
   "source": [
    "### Data cleaning\n",
    "The `income` column includes many -1 values (as shown by the 75% percentile)  "
   ]
  },
  {
   "cell_type": "code",
   "execution_count": 7,
   "metadata": {},
   "outputs": [
    {
     "data": {
      "text/plain": [
       "-1          48442\n",
       " 20000       2952\n",
       " 100000      1621\n",
       " 80000       1111\n",
       " 30000       1048\n",
       " 40000       1005\n",
       " 50000        975\n",
       " 60000        736\n",
       " 70000        707\n",
       " 150000       631\n",
       " 1000000      521\n",
       " 250000       149\n",
       " 500000        48\n",
       "Name: income, dtype: int64"
      ]
     },
     "execution_count": 7,
     "metadata": {},
     "output_type": "execute_result"
    }
   ],
   "source": [
    "profiles.income.value_counts(dropna=False)"
   ]
  },
  {
   "cell_type": "markdown",
   "metadata": {},
   "source": [
    "Create a new column called `income_clean`, where -1 is replaced by NaN"
   ]
  },
  {
   "cell_type": "code",
   "execution_count": 8,
   "metadata": {
    "scrolled": false
   },
   "outputs": [
    {
     "data": {
      "text/plain": [
       "NaN          48442\n",
       "20000.0       2952\n",
       "100000.0      1621\n",
       "80000.0       1111\n",
       "30000.0       1048\n",
       "40000.0       1005\n",
       "50000.0        975\n",
       "60000.0        736\n",
       "70000.0        707\n",
       "150000.0       631\n",
       "1000000.0      521\n",
       "250000.0       149\n",
       "500000.0        48\n",
       "Name: income_clean, dtype: int64"
      ]
     },
     "execution_count": 8,
     "metadata": {},
     "output_type": "execute_result"
    }
   ],
   "source": [
    "profiles['income_clean'] = profiles.income.replace(-1, np.nan)\n",
    "profiles.income_clean.value_counts(dropna=False)"
   ]
  },
  {
   "cell_type": "markdown",
   "metadata": {},
   "source": [
    "### Data exploration"
   ]
  },
  {
   "cell_type": "markdown",
   "metadata": {},
   "source": [
    "#### Continuous features"
   ]
  },
  {
   "cell_type": "markdown",
   "metadata": {},
   "source": [
    "Plot showing the distibution of `age`, broken down by `sex`"
   ]
  },
  {
   "cell_type": "code",
   "execution_count": 9,
   "metadata": {},
   "outputs": [
    {
     "data": {
      "image/png": "[encoded data removed]",
      "text/plain": [
       "<Figure size 405.625x360 with 1 Axes>"
      ]
     },
     "metadata": {
      "needs_background": "light"
     },
     "output_type": "display_data"
    }
   ],
   "source": [
    "sns.displot(data=profiles, x=\"age\", hue = \"sex\", kind=\"hist\", binwidth = 5, multiple = \"stack\", alpha = 0.5);"
   ]
  },
  {
   "cell_type": "markdown",
   "metadata": {},
   "source": [
    "Plot showing the distibution of `height`, broken down by `sex`"
   ]
  },
  {
   "cell_type": "code",
   "execution_count": 10,
   "metadata": {},
   "outputs": [
    {
     "data": {
      "image/png": "[encoded data removed]",
      "text/plain": [
       "<Figure size 405.625x360 with 1 Axes>"
      ]
     },
     "metadata": {
      "needs_background": "light"
     },
     "output_type": "display_data"
    }
   ],
   "source": [
    "sns.displot(data=profiles, x=\"height\", hue = \"sex\", kind=\"hist\", binwidth = 3, multiple = \"stack\", alpha = 0.5);"
   ]
  },
  {
   "cell_type": "markdown",
   "metadata": {},
   "source": [
    "Plot showing the distibution of `income_clean`, broken down by `sex`"
   ]
  },
  {
   "cell_type": "code",
   "execution_count": 11,
   "metadata": {},
   "outputs": [
    {
     "data": {
      "image/png": "[encoded data removed]",
      "text/plain": [
       "<Figure size 405.625x360 with 1 Axes>"
      ]
     },
     "metadata": {
      "needs_background": "light"
     },
     "output_type": "display_data"
    }
   ],
   "source": [
    "sns.displot(data=profiles, x=\"income_clean\", hue = \"sex\", kind=\"hist\", binwidth = 50000, multiple = \"stack\", alpha = 0.5);"
   ]
  },
  {
   "cell_type": "markdown",
   "metadata": {},
   "source": [
    "**Categorical features**"
   ]
  },
  {
   "cell_type": "markdown",
   "metadata": {},
   "source": [
    "Plot showing the count of `sex` categories. There are approx. 35k men and 25k women"
   ]
  },
  {
   "cell_type": "code",
   "execution_count": 12,
   "metadata": {},
   "outputs": [
    {
     "data": {
      "image/png": "[encoded data removed]",
      "text/plain": [
       "<Figure size 432x288 with 1 Axes>"
      ]
     },
     "metadata": {
      "needs_background": "light"
     },
     "output_type": "display_data"
    }
   ],
   "source": [
    "sns.countplot(data=profiles, y=\"sex\");"
   ]
  },
  {
   "cell_type": "markdown",
   "metadata": {},
   "source": [
    "#### Body type\n",
    "Plot showing the count of `body_type` categories, broken down by `sex`. Most men consider themselves \"average\", \"athletic\" or \"fit\", while women consider themselves \"average\", \"fit\" or \"curvy\"."
   ]
  },
  {
   "cell_type": "code",
   "execution_count": 13,
   "metadata": {},
   "outputs": [
    {
     "data": {
      "image/png": "[encoded data removed]",
      "text/plain": [
       "<Figure size 432x288 with 1 Axes>"
      ]
     },
     "metadata": {
      "needs_background": "light"
     },
     "output_type": "display_data"
    }
   ],
   "source": [
    "sns.countplot(data=profiles, y=\"body_type\", hue = 'sex');"
   ]
  },
  {
   "cell_type": "markdown",
   "metadata": {},
   "source": [
    "#### Diet\n",
    "Plot showing the distribution density of `diet` categories, broken down by `sex`. More women are (mostly/strictly) vegetarian or (mostly/strictly) vegan then men."
   ]
  },
  {
   "cell_type": "code",
   "execution_count": 14,
   "metadata": {},
   "outputs": [
    {
     "data": {
      "text/plain": [
       "<AxesSubplot:xlabel='Density', ylabel='diet'>"
      ]
     },
     "execution_count": 14,
     "metadata": {},
     "output_type": "execute_result"
    },
    {
     "data": {
      "image/png": "[encoded data removed]",
      "text/plain": [
       "<Figure size 432x288 with 1 Axes>"
      ]
     },
     "metadata": {
      "needs_background": "light"
     },
     "output_type": "display_data"
    }
   ],
   "source": [
    "sns.histplot(data = profiles, y = \"diet\", hue = \"sex\",  stat = 'density', multiple=\"dodge\",shrink = 0.8, common_norm=False)"
   ]
  },
  {
   "cell_type": "markdown",
   "metadata": {},
   "source": [
    "#### Drinks\n",
    "Plot showing the distribution density of `drinks` categories, broken down by `sex`. Most users are social drinkers, with women slightly more often than men."
   ]
  },
  {
   "cell_type": "code",
   "execution_count": 15,
   "metadata": {
    "scrolled": true
   },
   "outputs": [
    {
     "data": {
      "text/plain": [
       "<AxesSubplot:xlabel='Density', ylabel='drinks'>"
      ]
     },
     "execution_count": 15,
     "metadata": {},
     "output_type": "execute_result"
    },
    {
     "data": {
      "image/png": "[encoded data removed]",
      "text/plain": [
       "<Figure size 432x288 with 1 Axes>"
      ]
     },
     "metadata": {
      "needs_background": "light"
     },
     "output_type": "display_data"
    }
   ],
   "source": [
    "sns.histplot(data = profiles, y = \"drinks\", hue = \"sex\",  stat = 'density', multiple=\"dodge\",shrink = 0.8, common_norm=False)"
   ]
  },
  {
   "cell_type": "markdown",
   "metadata": {},
   "source": [
    "#### Drugs\n",
    "Plot showing the distribution density of `drugs` categories, broken down by `sex`. Most users, especially women, never used drugs."
   ]
  },
  {
   "cell_type": "code",
   "execution_count": 16,
   "metadata": {},
   "outputs": [
    {
     "data": {
      "text/plain": [
       "<AxesSubplot:xlabel='Density', ylabel='drugs'>"
      ]
     },
     "execution_count": 16,
     "metadata": {},
     "output_type": "execute_result"
    },
    {
     "data": {
      "image/png": "[encoded data removed]",
      "text/plain": [
       "<Figure size 432x288 with 1 Axes>"
      ]
     },
     "metadata": {
      "needs_background": "light"
     },
     "output_type": "display_data"
    }
   ],
   "source": [
    "sns.histplot(data = profiles, y = \"drugs\", hue = \"sex\",  stat = 'density', multiple=\"dodge\",shrink = 0.8, common_norm=False)"
   ]
  },
  {
   "cell_type": "markdown",
   "metadata": {},
   "source": [
    "#### Education\n",
    "Plot showing the distribution density of `education` categories, broken down by `sex`. Almost half of the users are college/university graduates. More women are working on or graduated masters programs than men."
   ]
  },
  {
   "cell_type": "code",
   "execution_count": 17,
   "metadata": {},
   "outputs": [
    {
     "data": {
      "text/plain": [
       "<AxesSubplot:xlabel='Density', ylabel='education'>"
      ]
     },
     "execution_count": 17,
     "metadata": {},
     "output_type": "execute_result"
    },
    {
     "data": {
      "image/png": "[encoded data removed]",
      "text/plain": [
       "<Figure size 432x720 with 1 Axes>"
      ]
     },
     "metadata": {
      "needs_background": "light"
     },
     "output_type": "display_data"
    }
   ],
   "source": [
    "plt.figure(figsize=(6,10))\n",
    "sns.histplot(data = profiles, y = \"education\", hue = \"sex\", stat = 'density', multiple=\"dodge\",shrink = 0.8, common_norm=False)"
   ]
  },
  {
   "cell_type": "markdown",
   "metadata": {},
   "source": [
    "#### Jobs\n",
    "Plot showing the distribution density of `job` categories, broken down by `sex`. More men work in transportation, IT, science/tech/engineering than women. More women work in medicine/health, education/academia and clerical/administrative field than men."
   ]
  },
  {
   "cell_type": "code",
   "execution_count": 18,
   "metadata": {},
   "outputs": [
    {
     "data": {
      "text/plain": [
       "<AxesSubplot:xlabel='Density', ylabel='job'>"
      ]
     },
     "execution_count": 18,
     "metadata": {},
     "output_type": "execute_result"
    },
    {
     "data": {
      "image/png": "[encoded data removed]",
      "text/plain": [
       "<Figure size 432x504 with 1 Axes>"
      ]
     },
     "metadata": {
      "needs_background": "light"
     },
     "output_type": "display_data"
    }
   ],
   "source": [
    "plt.figure(figsize=(6,7))\n",
    "sns.histplot(data = profiles, y = \"job\", hue = \"sex\", stat = 'density', multiple=\"dodge\",shrink = 0.8, common_norm=False)"
   ]
  },
  {
   "cell_type": "markdown",
   "metadata": {},
   "source": [
    "#### Offsrpings\n",
    "Plot showing the distribution density of `offsprings` categories, broken down by `sex`. More users don't have children, especially men."
   ]
  },
  {
   "cell_type": "code",
   "execution_count": 19,
   "metadata": {},
   "outputs": [
    {
     "data": {
      "text/plain": [
       "<AxesSubplot:xlabel='Density', ylabel='offspring'>"
      ]
     },
     "execution_count": 19,
     "metadata": {},
     "output_type": "execute_result"
    },
    {
     "data": {
      "image/png": "[encoded data removed]",
      "text/plain": [
       "<Figure size 432x504 with 1 Axes>"
      ]
     },
     "metadata": {
      "needs_background": "light"
     },
     "output_type": "display_data"
    }
   ],
   "source": [
    "plt.figure(figsize=(6,7))\n",
    "sns.histplot(data = profiles, y = \"offspring\", hue = \"sex\", stat = 'density', multiple=\"dodge\",shrink = 0.8, common_norm=False)"
   ]
  },
  {
   "cell_type": "markdown",
   "metadata": {},
   "source": [
    "#### Orientation\n",
    "Plot showing the distribution density of `orientation` categories, broken down by `sex`. Most users are straight, almost equal percentages between men and women. More women are bisexual than men."
   ]
  },
  {
   "cell_type": "code",
   "execution_count": 20,
   "metadata": {},
   "outputs": [
    {
     "data": {
      "text/plain": [
       "<AxesSubplot:xlabel='Density', ylabel='orientation'>"
      ]
     },
     "execution_count": 20,
     "metadata": {},
     "output_type": "execute_result"
    },
    {
     "data": {
      "image/png": "[encoded data removed]",
      "text/plain": [
       "<Figure size 432x288 with 1 Axes>"
      ]
     },
     "metadata": {
      "needs_background": "light"
     },
     "output_type": "display_data"
    }
   ],
   "source": [
    "sns.histplot(data = profiles, y = \"orientation\", hue = \"sex\", stat = 'density', multiple=\"dodge\",shrink = 0.8, common_norm=False)"
   ]
  },
  {
   "cell_type": "markdown",
   "metadata": {},
   "source": [
    "#### Pets\n",
    "Plot showing the distribution density of `pets` categories, broken down by `sex`. More women have pets than men."
   ]
  },
  {
   "cell_type": "code",
   "execution_count": 21,
   "metadata": {},
   "outputs": [
    {
     "data": {
      "text/plain": [
       "<AxesSubplot:xlabel='Density', ylabel='pets'>"
      ]
     },
     "execution_count": 21,
     "metadata": {},
     "output_type": "execute_result"
    },
    {
     "data": {
      "image/png": "[encoded data removed]",
      "text/plain": [
       "<Figure size 432x504 with 1 Axes>"
      ]
     },
     "metadata": {
      "needs_background": "light"
     },
     "output_type": "display_data"
    }
   ],
   "source": [
    "plt.figure(figsize=(6,7))\n",
    "sns.histplot(data = profiles, y = \"pets\", hue = \"sex\", stat = 'density', multiple=\"dodge\",shrink = 0.8, common_norm=False)"
   ]
  },
  {
   "cell_type": "markdown",
   "metadata": {},
   "source": [
    "Plot showing the the fraction of pet owners, broken down by `sex`. More women are pet owners than men."
   ]
  },
  {
   "cell_type": "code",
   "execution_count": 22,
   "metadata": {},
   "outputs": [
    {
     "data": {
      "text/plain": [
       "<AxesSubplot:xlabel='Density', ylabel='has_pets'>"
      ]
     },
     "execution_count": 22,
     "metadata": {},
     "output_type": "execute_result"
    },
    {
     "data": {
      "image/png": "[encoded data removed]",
      "text/plain": [
       "<Figure size 432x288 with 1 Axes>"
      ]
     },
     "metadata": {
      "needs_background": "light"
     },
     "output_type": "display_data"
    }
   ],
   "source": [
    "profiles['has_pets'] = profiles.pets.str.contains('has').map({True: \"has pets\", False: \"doesn't have pets\"})\n",
    "sns.histplot(data = profiles, y = \"has_pets\", hue = \"sex\", stat = 'density', multiple=\"dodge\",shrink = 0.8, common_norm=False)"
   ]
  },
  {
   "cell_type": "markdown",
   "metadata": {},
   "source": [
    "#### Religion\n",
    "Plot showing the user count of `religion` categories."
   ]
  },
  {
   "cell_type": "code",
   "execution_count": 23,
   "metadata": {},
   "outputs": [
    {
     "data": {
      "image/png": "[encoded data removed]",
      "text/plain": [
       "<Figure size 432x504 with 1 Axes>"
      ]
     },
     "metadata": {
      "needs_background": "light"
     },
     "output_type": "display_data"
    }
   ],
   "source": [
    "plt.figure(figsize=(6,7))\n",
    "sns.countplot(data=profiles, y=\"religion\");"
   ]
  },
  {
   "cell_type": "markdown",
   "metadata": {},
   "source": [
    "Data cleaned to show only the main categories of religion, broken down by `sex`. More men are agnostic or atheist than women."
   ]
  },
  {
   "cell_type": "code",
   "execution_count": 24,
   "metadata": {},
   "outputs": [
    {
     "data": {
      "text/plain": [
       "<AxesSubplot:xlabel='Density', ylabel='religion_clean'>"
      ]
     },
     "execution_count": 24,
     "metadata": {},
     "output_type": "execute_result"
    },
    {
     "data": {
      "image/png": "[encoded data removed]",
      "text/plain": [
       "<Figure size 432x288 with 1 Axes>"
      ]
     },
     "metadata": {
      "needs_background": "light"
     },
     "output_type": "display_data"
    }
   ],
   "source": [
    "profiles['religion_clean'] = profiles.religion.str.split().str.get(0)\n",
    "sns.histplot(data = profiles, y = \"religion_clean\", hue = \"sex\", stat = 'density', multiple=\"dodge\",shrink = 0.8, common_norm=False)"
   ]
  },
  {
   "cell_type": "markdown",
   "metadata": {},
   "source": [
    "#### Astrological signs\n",
    "\n",
    "List showing the categories of `signs`. Each `sign` has 4 subcategories."
   ]
  },
  {
   "cell_type": "code",
   "execution_count": 25,
   "metadata": {},
   "outputs": [
    {
     "name": "stdout",
     "output_type": "stream",
     "text": [
      "number of categories: 48\n",
      "categories: ['gemini' 'cancer' 'pisces but it doesn&rsquo;t matter' 'pisces'\n",
      " 'aquarius' 'taurus' 'virgo' 'sagittarius'\n",
      " 'gemini but it doesn&rsquo;t matter' 'cancer but it doesn&rsquo;t matter'\n",
      " 'leo but it doesn&rsquo;t matter' nan\n",
      " 'aquarius but it doesn&rsquo;t matter'\n",
      " 'aries and it&rsquo;s fun to think about'\n",
      " 'libra but it doesn&rsquo;t matter'\n",
      " 'pisces and it&rsquo;s fun to think about' 'libra'\n",
      " 'taurus but it doesn&rsquo;t matter'\n",
      " 'sagittarius but it doesn&rsquo;t matter' 'scorpio and it matters a lot'\n",
      " 'gemini and it&rsquo;s fun to think about'\n",
      " 'leo and it&rsquo;s fun to think about'\n",
      " 'cancer and it&rsquo;s fun to think about'\n",
      " 'libra and it&rsquo;s fun to think about'\n",
      " 'aquarius and it&rsquo;s fun to think about'\n",
      " 'virgo but it doesn&rsquo;t matter'\n",
      " 'scorpio and it&rsquo;s fun to think about'\n",
      " 'capricorn but it doesn&rsquo;t matter' 'scorpio'\n",
      " 'capricorn and it&rsquo;s fun to think about' 'leo'\n",
      " 'aries but it doesn&rsquo;t matter' 'aries'\n",
      " 'scorpio but it doesn&rsquo;t matter'\n",
      " 'sagittarius and it&rsquo;s fun to think about'\n",
      " 'libra and it matters a lot' 'taurus and it&rsquo;s fun to think about'\n",
      " 'leo and it matters a lot' 'virgo and it&rsquo;s fun to think about'\n",
      " 'cancer and it matters a lot' 'capricorn' 'pisces and it matters a lot'\n",
      " 'aries and it matters a lot' 'capricorn and it matters a lot'\n",
      " 'aquarius and it matters a lot' 'sagittarius and it matters a lot'\n",
      " 'gemini and it matters a lot' 'taurus and it matters a lot'\n",
      " 'virgo and it matters a lot']\n"
     ]
    }
   ],
   "source": [
    "print(\"number of categories:\", profiles.sign.nunique())\n",
    "print(\"categories:\", profiles.sign.unique())"
   ]
  },
  {
   "cell_type": "markdown",
   "metadata": {},
   "source": [
    "Data cleaned to show only the main categories of signs."
   ]
  },
  {
   "cell_type": "code",
   "execution_count": 26,
   "metadata": {},
   "outputs": [
    {
     "name": "stdout",
     "output_type": "stream",
     "text": [
      "number of categories: 12\n",
      "categories: ['gemini' 'cancer' 'pisces' 'aquarius' 'taurus' 'virgo' 'sagittarius'\n",
      " 'leo' nan 'aries' 'libra' 'scorpio' 'capricorn']\n"
     ]
    }
   ],
   "source": [
    "profiles['sign_clean'] = profiles.sign.str.split().str.get(0)\n",
    "print(\"number of categories:\",profiles.sign_clean.nunique())\n",
    "print(\"categories:\", profiles.sign_clean.unique())"
   ]
  },
  {
   "cell_type": "markdown",
   "metadata": {},
   "source": [
    "The most represented sign is leo and the least represented is capricorn."
   ]
  },
  {
   "cell_type": "code",
   "execution_count": 27,
   "metadata": {
    "scrolled": true
   },
   "outputs": [
    {
     "data": {
      "image/png": "[encoded data removed]",
      "text/plain": [
       "<Figure size 432x288 with 1 Axes>"
      ]
     },
     "metadata": {
      "needs_background": "light"
     },
     "output_type": "display_data"
    }
   ],
   "source": [
    "sns.countplot(data=profiles, y=\"sign_clean\");"
   ]
  },
  {
   "cell_type": "markdown",
   "metadata": {},
   "source": [
    "#### Smoking\n",
    "Plot showing the distribution density of `smokes` categories, broken down by `sex`. The majority of users are not smokers. Slightly less women are smokers in comparison to men."
   ]
  },
  {
   "cell_type": "code",
   "execution_count": 28,
   "metadata": {},
   "outputs": [
    {
     "data": {
      "text/plain": [
       "<AxesSubplot:xlabel='Density', ylabel='smokes'>"
      ]
     },
     "execution_count": 28,
     "metadata": {},
     "output_type": "execute_result"
    },
    {
     "data": {
      "image/png": "[encoded data removed]",
      "text/plain": [
       "<Figure size 432x288 with 1 Axes>"
      ]
     },
     "metadata": {
      "needs_background": "light"
     },
     "output_type": "display_data"
    }
   ],
   "source": [
    "sns.histplot(data = profiles, y = \"smokes\", hue = \"sex\", stat = 'density', multiple=\"dodge\",shrink = 0.8, common_norm=False)"
   ]
  },
  {
   "cell_type": "markdown",
   "metadata": {},
   "source": [
    "#### Status\n",
    "Plot showing the distribution density of `status` categories, broken down by `sex`. The majority of users are single."
   ]
  },
  {
   "cell_type": "code",
   "execution_count": 29,
   "metadata": {},
   "outputs": [
    {
     "data": {
      "text/plain": [
       "<AxesSubplot:xlabel='Density', ylabel='status'>"
      ]
     },
     "execution_count": 29,
     "metadata": {},
     "output_type": "execute_result"
    },
    {
     "data": {
      "image/png": "[encoded data removed]",
      "text/plain": [
       "<Figure size 432x288 with 1 Axes>"
      ]
     },
     "metadata": {
      "needs_background": "light"
     },
     "output_type": "display_data"
    }
   ],
   "source": [
    "sns.histplot(data = profiles, y = \"status\", hue = \"sex\", stat = 'density', multiple=\"dodge\",shrink = 0.8, common_norm=False)"
   ]
  },
  {
   "cell_type": "markdown",
   "metadata": {},
   "source": [
    "## Data preparation\n",
    "Check how many values are missing from each feature"
   ]
  },
  {
   "cell_type": "code",
   "execution_count": 30,
   "metadata": {},
   "outputs": [
    {
     "data": {
      "text/plain": [
       "age                   0\n",
       "body_type          5296\n",
       "diet              24395\n",
       "drinks             2985\n",
       "drugs             14080\n",
       "education          6628\n",
       "essay0             5488\n",
       "essay1             7572\n",
       "essay2             9638\n",
       "essay3            11476\n",
       "essay4            10537\n",
       "essay5            10850\n",
       "essay6            13771\n",
       "essay7            12451\n",
       "essay8            19225\n",
       "essay9            12603\n",
       "ethnicity          5680\n",
       "height                3\n",
       "income                0\n",
       "job                8198\n",
       "last_online           0\n",
       "location              0\n",
       "offspring         35561\n",
       "orientation           0\n",
       "pets              19921\n",
       "religion          20226\n",
       "sex                   0\n",
       "sign              11056\n",
       "smokes             5512\n",
       "speaks               50\n",
       "status                0\n",
       "income_clean      48442\n",
       "has_pets          19921\n",
       "religion_clean    20226\n",
       "sign_clean        11056\n",
       "dtype: int64"
      ]
     },
     "execution_count": 30,
     "metadata": {},
     "output_type": "execute_result"
    }
   ],
   "source": [
    "profiles.isnull().sum()"
   ]
  },
  {
   "cell_type": "markdown",
   "metadata": {},
   "source": [
    "## Data analysis"
   ]
  },
  {
   "cell_type": "markdown",
   "metadata": {},
   "source": [
    "Import all the necessary libraries"
   ]
  },
  {
   "cell_type": "code",
   "execution_count": 31,
   "metadata": {},
   "outputs": [],
   "source": [
    "from sklearn.model_selection import train_test_split \n",
    "from sklearn.linear_model import LogisticRegression\n",
    "from sklearn.neighbors import KNeighborsClassifier\n",
    "from sklearn.tree import DecisionTreeClassifier\n",
    "from sklearn.ensemble import RandomForestClassifier\n",
    "from sklearn.metrics import classification_report, confusion_matrix\n",
    "from sklearn.feature_extraction.text import CountVectorizer\n",
    "from sklearn.naive_bayes import MultinomialNB"
   ]
  },
  {
   "cell_type": "markdown",
   "metadata": {},
   "source": [
    "### Q1: Can the open answers predict the sex of the user?"
   ]
  },
  {
   "cell_type": "markdown",
   "metadata": {},
   "source": [
    "#### First, only let's see if the sex can be predicted only from `essay0`"
   ]
  },
  {
   "cell_type": "code",
   "execution_count": 32,
   "metadata": {
    "scrolled": true
   },
   "outputs": [
    {
     "data": {
      "text/html": [
       "<div>\n",
       "<style scoped>\n",
       "    .dataframe tbody tr th:only-of-type {\n",
       "        vertical-align: middle;\n",
       "    }\n",
       "\n",
       "    .dataframe tbody tr th {\n",
       "        vertical-align: top;\n",
       "    }\n",
       "\n",
       "    .dataframe thead th {\n",
       "        text-align: right;\n",
       "    }\n",
       "</style>\n",
       "<table border=\"1\" class=\"dataframe\">\n",
       "  <thead>\n",
       "    <tr style=\"text-align: right;\">\n",
       "      <th></th>\n",
       "      <th>essay0</th>\n",
       "      <th>sex</th>\n",
       "    </tr>\n",
       "  </thead>\n",
       "  <tbody>\n",
       "    <tr>\n",
       "      <th>0</th>\n",
       "      <td>about me:&lt;br /&gt;\\n&lt;br /&gt;\\ni would love to think...</td>\n",
       "      <td>m</td>\n",
       "    </tr>\n",
       "    <tr>\n",
       "      <th>1</th>\n",
       "      <td>i am a chef: this is what that means.&lt;br /&gt;\\n1...</td>\n",
       "      <td>m</td>\n",
       "    </tr>\n",
       "    <tr>\n",
       "      <th>2</th>\n",
       "      <td>i'm not ashamed of much, but writing public te...</td>\n",
       "      <td>m</td>\n",
       "    </tr>\n",
       "    <tr>\n",
       "      <th>3</th>\n",
       "      <td>i work in a library and go to school. . .</td>\n",
       "      <td>m</td>\n",
       "    </tr>\n",
       "    <tr>\n",
       "      <th>4</th>\n",
       "      <td>hey how's it going? currently vague on the pro...</td>\n",
       "      <td>m</td>\n",
       "    </tr>\n",
       "  </tbody>\n",
       "</table>\n",
       "</div>"
      ],
      "text/plain": [
       "                                              essay0 sex\n",
       "0  about me:<br />\\n<br />\\ni would love to think...   m\n",
       "1  i am a chef: this is what that means.<br />\\n1...   m\n",
       "2  i'm not ashamed of much, but writing public te...   m\n",
       "3          i work in a library and go to school. . .   m\n",
       "4  hey how's it going? currently vague on the pro...   m"
      ]
     },
     "execution_count": 32,
     "metadata": {},
     "output_type": "execute_result"
    }
   ],
   "source": [
    "features = ['essay0']\n",
    "prof = profiles[features + ['sex']].dropna()\n",
    "\n",
    "X = prof.iloc[:, 0]\n",
    "Y = prof.iloc[:, 1]\n",
    "\n",
    "prof.head()"
   ]
  },
  {
   "cell_type": "markdown",
   "metadata": {},
   "source": [
    "Let's see an example of open answer."
   ]
  },
  {
   "cell_type": "code",
   "execution_count": 33,
   "metadata": {},
   "outputs": [
    {
     "data": {
      "text/plain": [
       "\"life is about the little things. i love to laugh. it's easy to do\\nwhen one can find beauty and humor in the ugly. this perspective\\nmakes for a more gratifying life. it's a gift. we are here to play.\""
      ]
     },
     "execution_count": 33,
     "metadata": {},
     "output_type": "execute_result"
    }
   ],
   "source": [
    "prof.essay0[6]"
   ]
  },
  {
   "cell_type": "markdown",
   "metadata": {},
   "source": [
    "Split data into train data set (80%) and test data set (20%)"
   ]
  },
  {
   "cell_type": "code",
   "execution_count": 34,
   "metadata": {
    "scrolled": true
   },
   "outputs": [
    {
     "name": "stdout",
     "output_type": "stream",
     "text": [
      "Data points in train data: 43566\n",
      "Data points in test data: 10892\n"
     ]
    }
   ],
   "source": [
    "train_data, test_data, train_labels, test_labels = train_test_split(X, Y, test_size = 0.2, random_state = 1)\n",
    "print('Data points in train data: {}'.format(len(train_data)))\n",
    "print('Data points in test data: {}'.format(len(test_data)))"
   ]
  },
  {
   "cell_type": "markdown",
   "metadata": {},
   "source": [
    "Create a `CountVectorizer` object, fit it on the train data set and vectorize both train and test data sets "
   ]
  },
  {
   "cell_type": "code",
   "execution_count": 35,
   "metadata": {},
   "outputs": [],
   "source": [
    "counter_0 = CountVectorizer()\n",
    "train_vectors = counter_0.fit_transform(train_data)\n",
    "test_vectors = counter_0.transform(test_data)"
   ]
  },
  {
   "cell_type": "markdown",
   "metadata": {},
   "source": [
    "Create a Naive Bayes classifier and fit in on the vectorized train data set"
   ]
  },
  {
   "cell_type": "code",
   "execution_count": 36,
   "metadata": {},
   "outputs": [
    {
     "name": "stdout",
     "output_type": "stream",
     "text": [
      "Score of the train data set: 0.795\n",
      "Score of the test data set: 0.710\n"
     ]
    }
   ],
   "source": [
    "classifier_0 = MultinomialNB()\n",
    "classifier_0.fit(train_vectors, train_labels)\n",
    "print('Score of the train data set: {:0.3f}'.format(classifier_0.score(train_vectors, train_labels)))\n",
    "print('Score of the test data set: {:0.3f}'.format(classifier_0.score(test_vectors, test_labels)))"
   ]
  },
  {
   "cell_type": "markdown",
   "metadata": {},
   "source": [
    "The classifier does a relatively good job, by predicting with 70-80% accuracy. Now let's test if sample messages would be classified as coming from a woman or a men"
   ]
  },
  {
   "cell_type": "code",
   "execution_count": 37,
   "metadata": {
    "scrolled": true
   },
   "outputs": [
    {
     "name": "stdout",
     "output_type": "stream",
     "text": [
      "I am strong and independent :  f\n",
      "I am a teacher :  f\n",
      "I am tall and chilled :  m\n",
      "I am an engineer :  m\n"
     ]
    }
   ],
   "source": [
    "sample_data = pd.Series([\"I am strong and independent\", \"I am a teacher\", \"I am tall and chilled\", \"I am an engineer\"])\n",
    "sample_vectors = counter_0.transform(sample_data)\n",
    "\n",
    "sample_pred = classifier_0.predict(sample_vectors)\n",
    "for i in range(len(sample_data)):\n",
    "    print(sample_data[i], ': ',sample_pred[i])"
   ]
  },
  {
   "cell_type": "markdown",
   "metadata": {},
   "source": [
    "Next, the following scores are assesed for the train data set and then for the test data set:\n",
    "- Accuracy = (TP + TN) / (TP + TN + FP + FN)\n",
    "- Recall = TP / (TP + FN)\n",
    "- Precision = TP / (TP + FP)\n",
    "- F1-score = (2 * Recall * Precision) / (Recall + Precision)\n",
    "\n",
    "TP = true positive, TN = true negative, FP = false positive, FN = false negative"
   ]
  },
  {
   "cell_type": "code",
   "execution_count": 38,
   "metadata": {
    "scrolled": true
   },
   "outputs": [
    {
     "name": "stdout",
     "output_type": "stream",
     "text": [
      "Train data set: \n",
      "              precision    recall  f1-score   support\n",
      "\n",
      "           f       0.74      0.76      0.75     17393\n",
      "           m       0.84      0.82      0.83     26173\n",
      "\n",
      "    accuracy                           0.80     43566\n",
      "   macro avg       0.79      0.79      0.79     43566\n",
      "weighted avg       0.80      0.80      0.80     43566\n",
      "\n"
     ]
    }
   ],
   "source": [
    "predictions = classifier_0.predict(train_vectors)\n",
    "print('Train data set: ')\n",
    "print(classification_report(train_labels, predictions))"
   ]
  },
  {
   "cell_type": "code",
   "execution_count": 39,
   "metadata": {},
   "outputs": [
    {
     "name": "stdout",
     "output_type": "stream",
     "text": [
      "Test data set: \n",
      "              precision    recall  f1-score   support\n",
      "\n",
      "           f       0.64      0.64      0.64      4417\n",
      "           m       0.75      0.76      0.76      6475\n",
      "\n",
      "    accuracy                           0.71     10892\n",
      "   macro avg       0.70      0.70      0.70     10892\n",
      "weighted avg       0.71      0.71      0.71     10892\n",
      "\n"
     ]
    }
   ],
   "source": [
    "predictions = classifier_0.predict(test_vectors)\n",
    "print('Test data set: ')\n",
    "print(classification_report(test_labels, predictions))"
   ]
  },
  {
   "cell_type": "markdown",
   "metadata": {},
   "source": [
    "This classifier using the first essays had 64% precision in identifying female users and 75% accuracy for male users.\n",
    "\n",
    "Now let's create a confusion matrix."
   ]
  },
  {
   "cell_type": "code",
   "execution_count": 40,
   "metadata": {},
   "outputs": [],
   "source": [
    "labels = classifier_0.classes_\n",
    "labels_cm = confusion_matrix(test_labels, predictions, normalize = 'true')"
   ]
  },
  {
   "cell_type": "code",
   "execution_count": 41,
   "metadata": {},
   "outputs": [
    {
     "data": {
      "image/png": "[encoded data removed]",
      "text/plain": [
       "<Figure size 432x288 with 2 Axes>"
      ]
     },
     "metadata": {
      "needs_background": "light"
     },
     "output_type": "display_data"
    }
   ],
   "source": [
    "fs = 16\n",
    "\n",
    "plt.figure()\n",
    "ax= plt.subplot()\n",
    "plt.subplots_adjust(bottom=0.15, left = 0.15)\n",
    "sns.heatmap(labels_cm, annot=True, ax = ax, cmap ='crest', annot_kws={\"size\": fs});\n",
    "\n",
    "# labels, title and ticks\n",
    "ax.set_xlabel('Predicted labels', fontsize = fs);\n",
    "ax.set_ylabel('True labels', fontsize = fs); \n",
    "ax.set_title('Confusion Matrix', fontsize = 14);\n",
    "ax.yaxis.set_tick_params(rotation=360)\n",
    "ax.xaxis.set_tick_params(rotation=0)\n",
    "\n",
    "ax.xaxis.set_ticklabels(labels, fontsize = fs); \n",
    "ax.yaxis.set_ticklabels(labels, fontsize = fs);\n",
    "plt.savefig(\"Q1_cm_0.png\")"
   ]
  },
  {
   "cell_type": "markdown",
   "metadata": {},
   "source": [
    "#### Let's investigate how well each of the 10 essays predict the sex of the user."
   ]
  },
  {
   "cell_type": "code",
   "execution_count": 42,
   "metadata": {
    "scrolled": false
   },
   "outputs": [],
   "source": [
    "scores = []\n",
    "label_feat = 'sex'\n",
    "for i in range(10):\n",
    "    feature = 'essay' + str(i)\n",
    "    prof = profiles[[feature, label_feat]].dropna()\n",
    "\n",
    "    X = prof.iloc[:,0]\n",
    "    Y = prof.iloc[:,1]\n",
    "    \n",
    "    train_data, test_data, train_labels, test_labels = train_test_split(X, Y, test_size = 0.2, random_state = 1)\n",
    "    \n",
    "    counter_all = CountVectorizer()\n",
    "    train_vectors = counter_all.fit_transform(train_data)\n",
    "    test_vectors = counter_all.transform(test_data)\n",
    "    \n",
    "    classifier_all = MultinomialNB()\n",
    "    classifier_all.fit(train_vectors, train_labels)\n",
    "    \n",
    "    scores.append(classifier_all.score(test_vectors, test_labels))\n",
    "    #predictions = classifier_all.predict(test_vectors)\n",
    "    #print(pd.crosstab(test_labels, predictions, rownames = ['known'], colnames = ['predicted'], normalize = 'index'))\n",
    "    #print(classification_report(test_labels, predictions))"
   ]
  },
  {
   "cell_type": "code",
   "execution_count": 43,
   "metadata": {},
   "outputs": [
    {
     "data": {
      "image/png": "[encoded data removed]",
      "text/plain": [
       "<Figure size 432x288 with 1 Axes>"
      ]
     },
     "metadata": {
      "needs_background": "light"
     },
     "output_type": "display_data"
    }
   ],
   "source": [
    "fs = 17\n",
    "plt.figure(figsize = (6,4))\n",
    "plt.subplots_adjust(bottom=0.15, left = 0.15)\n",
    "ax= plt.subplot()\n",
    "plt.plot(range(10), scores, 'bo-')\n",
    "plt.xlabel('Essay #', fontsize = fs)\n",
    "plt.ylabel('Score', fontsize = fs)\n",
    "plt.xticks(fontsize=14)\n",
    "plt.yticks(fontsize=14)\n",
    "#plt.show()\n",
    "plt.savefig(\"Score_essay.png\")"
   ]
  },
  {
   "cell_type": "markdown",
   "metadata": {},
   "source": [
    "The scores indicate that the first essay (#0) predicts the best the sex of a user."
   ]
  },
  {
   "cell_type": "markdown",
   "metadata": {},
   "source": [
    "#### Next, let's try a classifier gathering data from all essays is used to predict user's sex."
   ]
  },
  {
   "cell_type": "code",
   "execution_count": 44,
   "metadata": {},
   "outputs": [
    {
     "name": "stdout",
     "output_type": "stream",
     "text": [
      "Score of a model using all 10 essays: 0.732\n"
     ]
    }
   ],
   "source": [
    "features = []\n",
    "\n",
    "no_features = 10\n",
    "for i in range(no_features):\n",
    "    feature = 'essay' + str(i)\n",
    "    features.append(feature)\n",
    "\n",
    "label_feat = 'sex'   \n",
    "prof = profiles[features + [label_feat]].dropna()\n",
    "prof['new_feat'] =  ''\n",
    "\n",
    "for feature in features:\n",
    "    prof['new_feat'] = prof['new_feat'] + profiles[feature]\n",
    "    \n",
    "X = prof.iloc[:,no_features + 1]\n",
    "Y = prof.iloc[:,no_features]\n",
    "    \n",
    "train_data, test_data, train_labels, test_labels = train_test_split(X, Y, test_size = 0.2, random_state = 1)\n",
    "    \n",
    "counter_comb = CountVectorizer()\n",
    "train_vectors = counter_comb.fit_transform(train_data)\n",
    "test_vectors = counter_comb.transform(test_data)\n",
    "   \n",
    "classifier_comb = MultinomialNB()\n",
    "classifier_comb.fit(train_vectors, train_labels)\n",
    "predictions = classifier_comb.predict(test_vectors)\n",
    "print('Score of a model using all {} essays: {:0.3f}'.format(no_features, classifier_comb.score(test_vectors, test_labels)))"
   ]
  },
  {
   "cell_type": "markdown",
   "metadata": {},
   "source": [
    "This classifier using all essays obtained a 73% accuracy on the test data set, better than any single essay, but at the expense of time. \n",
    "\n",
    "Now let's create a confusion matrix."
   ]
  },
  {
   "cell_type": "code",
   "execution_count": 45,
   "metadata": {},
   "outputs": [],
   "source": [
    "labels = classifier_comb.classes_\n",
    "labels_cm = confusion_matrix(test_labels, predictions, normalize = 'true')"
   ]
  },
  {
   "cell_type": "code",
   "execution_count": 46,
   "metadata": {
    "scrolled": true
   },
   "outputs": [
    {
     "data": {
      "image/png": "[encoded data removed]",
      "text/plain": [
       "<Figure size 432x288 with 2 Axes>"
      ]
     },
     "metadata": {
      "needs_background": "light"
     },
     "output_type": "display_data"
    }
   ],
   "source": [
    "fs = 16\n",
    "\n",
    "plt.figure()\n",
    "\n",
    "ax= plt.subplot()\n",
    "plt.subplots_adjust(bottom=0.15, left = 0.15)\n",
    "sns.heatmap(labels_cm, annot=True, ax = ax, cmap ='crest', annot_kws={\"size\": fs});\n",
    "\n",
    "# labels, title and ticks\n",
    "ax.set_xlabel('Predicted labels', fontsize = fs);\n",
    "ax.set_ylabel('True labels', fontsize = fs); \n",
    "ax.set_title('Confusion Matrix', fontsize = 14);\n",
    "ax.yaxis.set_tick_params(rotation=360)\n",
    "ax.xaxis.set_tick_params(rotation=0)\n",
    "\n",
    "ax.xaxis.set_ticklabels(labels, fontsize = fs); \n",
    "ax.yaxis.set_ticklabels(labels, fontsize = fs);\n",
    "\n",
    "plt.savefig(\"Q1_cm_comb.png\")"
   ]
  },
  {
   "cell_type": "markdown",
   "metadata": {},
   "source": [
    "This model predicted more precisely female users (82%) than male users (67%), in contrast to the model considering only the first essay."
   ]
  },
  {
   "cell_type": "markdown",
   "metadata": {},
   "source": [
    "### Q2: Can age, height and income predict a user's sex?"
   ]
  },
  {
   "cell_type": "markdown",
   "metadata": {},
   "source": [
    "Here, we are focusing on the 3 continuous variables: `age`, `height` and `income`"
   ]
  },
  {
   "cell_type": "code",
   "execution_count": 47,
   "metadata": {},
   "outputs": [
    {
     "name": "stdout",
     "output_type": "stream",
     "text": [
      "<class 'pandas.core.frame.DataFrame'>\n",
      "Int64Index: 59943 entries, 0 to 59945\n",
      "Data columns (total 4 columns):\n",
      " #   Column  Non-Null Count  Dtype  \n",
      "---  ------  --------------  -----  \n",
      " 0   age     59943 non-null  int64  \n",
      " 1   height  59943 non-null  float64\n",
      " 2   income  59943 non-null  int64  \n",
      " 3   sex     59943 non-null  object \n",
      "dtypes: float64(1), int64(2), object(1)\n",
      "memory usage: 2.3+ MB\n"
     ]
    }
   ],
   "source": [
    "prof_cont = profiles[['age', 'height', 'income', 'sex']].dropna()\n",
    "prof_cont.info()"
   ]
  },
  {
   "cell_type": "markdown",
   "metadata": {},
   "source": [
    "Plot of pairwise relationships of the dataset. This shows which features provide more information about the different classes (sexes). In this case, `height` seems to have a better separation between classes."
   ]
  },
  {
   "cell_type": "code",
   "execution_count": 48,
   "metadata": {},
   "outputs": [
    {
     "data": {
      "text/plain": [
       "<seaborn.axisgrid.PairGrid at 0x1d94b0d8550>"
      ]
     },
     "execution_count": 48,
     "metadata": {},
     "output_type": "execute_result"
    },
    {
     "data": {
      "image/png": "[encoded data removed]",
      "text/plain": [
       "<Figure size 585.625x540 with 12 Axes>"
      ]
     },
     "metadata": {
      "needs_background": "light"
     },
     "output_type": "display_data"
    }
   ],
   "source": [
    "sns.pairplot(prof_cont, hue = 'sex')"
   ]
  },
  {
   "cell_type": "markdown",
   "metadata": {},
   "source": [
    "Next the data is split into train and validation sets. In this split 80% of the data is kept for training the model, while 20% of the data is reserved for the final validation. "
   ]
  },
  {
   "cell_type": "code",
   "execution_count": 49,
   "metadata": {},
   "outputs": [],
   "source": [
    "df= prof_cont\n",
    "#Y is the target column, X has the rest\n",
    "X = df.iloc[:, 0:-1]\n",
    "Y = df.iloc[:, 3:4]\n",
    "\n",
    "#Validation chunk size\n",
    "val_size = 0.2\n",
    "\n",
    "#Split the data into train set and test set\n",
    "X_train, X_test, Y_train, Y_test = train_test_split(X, Y, test_size=val_size, random_state = 0)"
   ]
  },
  {
   "cell_type": "code",
   "execution_count": 50,
   "metadata": {},
   "outputs": [
    {
     "name": "stdout",
     "output_type": "stream",
     "text": [
      "Length data set for training:  47954\n",
      "Length data set for testing:  11989\n"
     ]
    }
   ],
   "source": [
    "print('Length data set for training: ', len(X_train))\n",
    "print('Length data set for testing: ', len(X_test))"
   ]
  },
  {
   "cell_type": "markdown",
   "metadata": {},
   "source": [
    "#### Logistic regression model\n",
    "\n",
    "Train and test a `LogisticRegression` model to predict the astological sign from other features.\n",
    "- Accuracy = (TP + TN) / (TP + TN + FP + FN)\n",
    "- Recall = TP / (TP + FN)\n",
    "- Precision = TP / (TP + FP)\n",
    "- F1-score = (2 * Recall * Precision) / (Recall + Precision)"
   ]
  },
  {
   "cell_type": "code",
   "execution_count": 51,
   "metadata": {},
   "outputs": [],
   "source": [
    "lr_model = LogisticRegression(multi_class=\"ovr\").fit(X_train, Y_train)\n",
    "lr_predictions = lr_model.predict(X_train)"
   ]
  },
  {
   "cell_type": "code",
   "execution_count": 52,
   "metadata": {
    "scrolled": true
   },
   "outputs": [
    {
     "name": "stdout",
     "output_type": "stream",
     "text": [
      "Score of the train data set: 0.611\n",
      "Score of the test data set: 0.615\n"
     ]
    }
   ],
   "source": [
    "print('Score of the train data set: {:0.3f}'.format(lr_model.score(X_train, Y_train)))\n",
    "print('Score of the test data set: {:0.3f}'.format(lr_model.score(X_test, Y_test)))"
   ]
  },
  {
   "cell_type": "markdown",
   "metadata": {},
   "source": [
    "For the 2 categories, the \"chance\" level of correctly predicting a category is 50%. That means, an accuracy, precision and recall around 60% is only a bit better than the \"chance\" level."
   ]
  },
  {
   "cell_type": "code",
   "execution_count": 53,
   "metadata": {},
   "outputs": [
    {
     "name": "stdout",
     "output_type": "stream",
     "text": [
      "              precision    recall  f1-score   support\n",
      "\n",
      "           f       0.57      0.15      0.24     19344\n",
      "           m       0.62      0.92      0.74     28610\n",
      "\n",
      "    accuracy                           0.61     47954\n",
      "   macro avg       0.59      0.54      0.49     47954\n",
      "weighted avg       0.60      0.61      0.54     47954\n",
      "\n"
     ]
    }
   ],
   "source": [
    "print(classification_report(Y_train, lr_predictions))"
   ]
  },
  {
   "cell_type": "code",
   "execution_count": 54,
   "metadata": {
    "scrolled": true
   },
   "outputs": [
    {
     "name": "stdout",
     "output_type": "stream",
     "text": [
      "              precision    recall  f1-score   support\n",
      "\n",
      "           f       0.56      0.15      0.23      4772\n",
      "           m       0.62      0.92      0.74      7217\n",
      "\n",
      "    accuracy                           0.62     11989\n",
      "   macro avg       0.59      0.54      0.49     11989\n",
      "weighted avg       0.60      0.62      0.54     11989\n",
      "\n"
     ]
    }
   ],
   "source": [
    "lr_predictions = lr_model.predict(X_test)\n",
    "print(classification_report(Y_test, lr_predictions))"
   ]
  },
  {
   "cell_type": "markdown",
   "metadata": {},
   "source": [
    "Create a list to store the scores"
   ]
  },
  {
   "cell_type": "code",
   "execution_count": 55,
   "metadata": {},
   "outputs": [],
   "source": [
    "cls_dict = classification_report(Y_test, lr_predictions, output_dict = True)\n",
    "cls_dict_lr = [cls_dict['accuracy'], cls_dict['weighted avg']['precision'], cls_dict['weighted avg']['recall'], cls_dict['weighted avg']['f1-score']]"
   ]
  },
  {
   "cell_type": "markdown",
   "metadata": {},
   "source": [
    "#### K-Nearest Neighbor\n",
    "\n",
    "Next, we'll try the `KNeighborsClassifier` which will first use the default value for `n_neighbors = 5` to predict the sexes. "
   ]
  },
  {
   "cell_type": "code",
   "execution_count": 56,
   "metadata": {},
   "outputs": [
    {
     "name": "stdout",
     "output_type": "stream",
     "text": [
      "Score of the train data set: 0.817\n",
      "Score of the test data set: 0.800\n"
     ]
    }
   ],
   "source": [
    "knn_model = KNeighborsClassifier(n_neighbors = 5).fit(X_train, Y_train)\n",
    "knn_predictions = knn_model.predict(X_train)\n",
    "print('Score of the train data set: {:0.3f}'.format(knn_model.score(X_train, Y_train)))\n",
    "print('Score of the test data set: {:0.3f}'.format(knn_model.score(X_test, Y_test)))"
   ]
  },
  {
   "cell_type": "code",
   "execution_count": 57,
   "metadata": {},
   "outputs": [
    {
     "name": "stdout",
     "output_type": "stream",
     "text": [
      "              precision    recall  f1-score   support\n",
      "\n",
      "           f       0.78      0.76      0.77     19344\n",
      "           m       0.84      0.86      0.85     28610\n",
      "\n",
      "    accuracy                           0.82     47954\n",
      "   macro avg       0.81      0.81      0.81     47954\n",
      "weighted avg       0.82      0.82      0.82     47954\n",
      "\n"
     ]
    }
   ],
   "source": [
    "print(classification_report(Y_train, knn_predictions))"
   ]
  },
  {
   "cell_type": "code",
   "execution_count": 58,
   "metadata": {
    "scrolled": true
   },
   "outputs": [
    {
     "name": "stdout",
     "output_type": "stream",
     "text": [
      "              precision    recall  f1-score   support\n",
      "\n",
      "           f       0.75      0.74      0.75      4772\n",
      "           m       0.83      0.84      0.83      7217\n",
      "\n",
      "    accuracy                           0.80     11989\n",
      "   macro avg       0.79      0.79      0.79     11989\n",
      "weighted avg       0.80      0.80      0.80     11989\n",
      "\n"
     ]
    }
   ],
   "source": [
    "knn_predictions = knn_model.predict(X_test)\n",
    "print(classification_report(Y_test, knn_predictions))"
   ]
  },
  {
   "cell_type": "markdown",
   "metadata": {},
   "source": [
    "With 80% accuracy and 79% precision, this model is performing better."
   ]
  },
  {
   "cell_type": "markdown",
   "metadata": {},
   "source": [
    "Create a list to store the scores"
   ]
  },
  {
   "cell_type": "code",
   "execution_count": 59,
   "metadata": {},
   "outputs": [],
   "source": [
    "cls_dict = classification_report(Y_test, knn_predictions, output_dict = True)\n",
    "cls_dict_knn = [cls_dict['accuracy'], cls_dict['weighted avg']['precision'], cls_dict['weighted avg']['recall'], cls_dict['weighted avg']['f1-score']]"
   ]
  },
  {
   "cell_type": "markdown",
   "metadata": {},
   "source": [
    "#### Decision Tree\n",
    "\n",
    "The next model is the decision tree. The default `max_depth` is `none` which means that it will \"If None, then nodes are expanded until all leaves are pure or until all leaves contain less than min_samples_split samples.\". "
   ]
  },
  {
   "cell_type": "code",
   "execution_count": 60,
   "metadata": {},
   "outputs": [],
   "source": [
    "cart_model = DecisionTreeClassifier().fit(X_train, Y_train) \n",
    "cart_predictions = cart_model.predict(X_train) "
   ]
  },
  {
   "cell_type": "code",
   "execution_count": 61,
   "metadata": {},
   "outputs": [
    {
     "name": "stdout",
     "output_type": "stream",
     "text": [
      "              precision    recall  f1-score   support\n",
      "\n",
      "           f       0.82      0.79      0.81     19344\n",
      "           m       0.86      0.88      0.87     28610\n",
      "\n",
      "    accuracy                           0.85     47954\n",
      "   macro avg       0.84      0.84      0.84     47954\n",
      "weighted avg       0.85      0.85      0.85     47954\n",
      "\n"
     ]
    }
   ],
   "source": [
    "print(classification_report(Y_train, cart_predictions))"
   ]
  },
  {
   "cell_type": "code",
   "execution_count": 62,
   "metadata": {},
   "outputs": [
    {
     "name": "stdout",
     "output_type": "stream",
     "text": [
      "              precision    recall  f1-score   support\n",
      "\n",
      "           f       0.79      0.76      0.78      4772\n",
      "           m       0.85      0.86      0.85      7217\n",
      "\n",
      "    accuracy                           0.82     11989\n",
      "   macro avg       0.82      0.81      0.81     11989\n",
      "weighted avg       0.82      0.82      0.82     11989\n",
      "\n"
     ]
    }
   ],
   "source": [
    "cart_predictions = cart_model.predict(X_test)\n",
    "print(classification_report(Y_test, cart_predictions))"
   ]
  },
  {
   "cell_type": "markdown",
   "metadata": {},
   "source": [
    "With 82% accuracy, this model is performing the best among the three models"
   ]
  },
  {
   "cell_type": "markdown",
   "metadata": {},
   "source": [
    "Create a list to store the scores"
   ]
  },
  {
   "cell_type": "code",
   "execution_count": 63,
   "metadata": {},
   "outputs": [],
   "source": [
    "cls_dict = classification_report(Y_test, cart_predictions, output_dict = True)\n",
    "cls_dict_dt = [cls_dict['accuracy'], cls_dict['weighted avg']['precision'], cls_dict['weighted avg']['recall'], cls_dict['weighted avg']['f1-score']]"
   ]
  },
  {
   "cell_type": "markdown",
   "metadata": {},
   "source": [
    "Confusion matrix showing the results with the true values on the y axis and predicted values along the x axis. "
   ]
  },
  {
   "cell_type": "code",
   "execution_count": 64,
   "metadata": {},
   "outputs": [],
   "source": [
    "cart_cm = confusion_matrix(Y_test, cart_predictions)\n",
    "cart_labels = cart_model.classes_"
   ]
  },
  {
   "cell_type": "code",
   "execution_count": 65,
   "metadata": {},
   "outputs": [
    {
     "data": {
      "image/png": "[encoded data removed]",
      "text/plain": [
       "<Figure size 720x504 with 2 Axes>"
      ]
     },
     "metadata": {
      "needs_background": "light"
     },
     "output_type": "display_data"
    }
   ],
   "source": [
    "plt.figure(figsize=(10,7))\n",
    "\n",
    "ax= plt.subplot()\n",
    "sns.heatmap(cart_cm, annot=True, ax = ax,fmt=\"d\", cmap = 'crest');\n",
    "\n",
    "# labels, title and ticks\n",
    "ax.set_xlabel('Predicted labels');\n",
    "ax.set_ylabel('True labels'); \n",
    "ax.set_title('Confusion Matrix');\n",
    "ax.yaxis.set_tick_params(rotation=360)\n",
    "ax.xaxis.set_tick_params(rotation=90)\n",
    "\n",
    "ax.xaxis.set_ticklabels(cart_labels); \n",
    "ax.yaxis.set_ticklabels(cart_labels);"
   ]
  },
  {
   "cell_type": "code",
   "execution_count": 66,
   "metadata": {
    "scrolled": true
   },
   "outputs": [
    {
     "data": {
      "text/plain": [
       "22"
      ]
     },
     "execution_count": 66,
     "metadata": {},
     "output_type": "execute_result"
    }
   ],
   "source": [
    "cart_model.get_depth()"
   ]
  },
  {
   "cell_type": "markdown",
   "metadata": {},
   "source": [
    "This decision tree model has a depth of 22 branches"
   ]
  },
  {
   "cell_type": "markdown",
   "metadata": {},
   "source": [
    "How well did the models perform compared to each other?\n",
    "The next plot shows that the KNN and Decision tree models performed the best."
   ]
  },
  {
   "cell_type": "code",
   "execution_count": 67,
   "metadata": {},
   "outputs": [],
   "source": [
    "cls = [cls_dict_lr, cls_dict_knn, cls_dict_dt]\n",
    "cls_models = ['Logistic\\n Regression', 'K-Nearest\\n Neighbor', 'Decision\\n Tree']\n",
    "cls_scores = ['Accuracy', 'Precision', 'Recall', 'F1-score']"
   ]
  },
  {
   "cell_type": "code",
   "execution_count": 68,
   "metadata": {
    "scrolled": true
   },
   "outputs": [
    {
     "data": {
      "image/png": "[encoded data removed]",
      "text/plain": [
       "<Figure size 432x288 with 2 Axes>"
      ]
     },
     "metadata": {
      "needs_background": "light"
     },
     "output_type": "display_data"
    }
   ],
   "source": [
    "plt.figure(figsize=(6,4))\n",
    "plt.subplots_adjust(bottom=0.15, left = 0.15)\n",
    "ax= plt.subplot()\n",
    "\n",
    "sns.heatmap(cls, annot=True, ax = ax, fmt=\".2g\", cmap = 'crest');\n",
    "\n",
    "# labels, title and ticks\n",
    "ax.set_xlabel('Measures');\n",
    "ax.set_ylabel('Models'); \n",
    "ax.set_title('Model performance');\n",
    "ax.yaxis.set_tick_params(rotation=360)\n",
    "#ax.xaxis.set_tick_params(rotation=90)\n",
    "\n",
    "ax.xaxis.set_ticklabels(cls_scores); \n",
    "ax.yaxis.set_ticklabels(cls_models);\n",
    "plt.savefig(\"models_scores.png\")"
   ]
  },
  {
   "cell_type": "markdown",
   "metadata": {},
   "source": [
    "### Q3: Can a user's astrological sign be predicted from other features of the user?\n",
    "A subset of the data is created, with feature which could possibly predict the astrological sign. All rows (users) which don't have an entry to at least one feature will be dropped."
   ]
  },
  {
   "cell_type": "code",
   "execution_count": 69,
   "metadata": {},
   "outputs": [
    {
     "data": {
      "text/plain": [
       "(12927, 11)"
      ]
     },
     "execution_count": 69,
     "metadata": {},
     "output_type": "execute_result"
    }
   ],
   "source": [
    "cols = ['body_type', 'diet', 'drinks', 'drugs','smokes', 'orientation', 'has_pets', 'religion_clean',\n",
    "       'sex', 'job', 'sign_clean']\n",
    "df = profiles[cols].dropna()\n",
    "df.shape"
   ]
  },
  {
   "cell_type": "markdown",
   "metadata": {},
   "source": [
    "Our data set contain 12927 users and 11 features."
   ]
  },
  {
   "cell_type": "code",
   "execution_count": 70,
   "metadata": {},
   "outputs": [],
   "source": [
    "for col in cols[:-1]:\n",
    "    df = pd.get_dummies(df, columns=[col], prefix = [col])"
   ]
  },
  {
   "cell_type": "code",
   "execution_count": 71,
   "metadata": {},
   "outputs": [
    {
     "data": {
      "text/html": [
       "<div>\n",
       "<style scoped>\n",
       "    .dataframe tbody tr th:only-of-type {\n",
       "        vertical-align: middle;\n",
       "    }\n",
       "\n",
       "    .dataframe tbody tr th {\n",
       "        vertical-align: top;\n",
       "    }\n",
       "\n",
       "    .dataframe thead th {\n",
       "        text-align: right;\n",
       "    }\n",
       "</style>\n",
       "<table border=\"1\" class=\"dataframe\">\n",
       "  <thead>\n",
       "    <tr style=\"text-align: right;\">\n",
       "      <th></th>\n",
       "      <th>sign_clean</th>\n",
       "      <th>body_type_a little extra</th>\n",
       "      <th>body_type_athletic</th>\n",
       "      <th>body_type_average</th>\n",
       "      <th>body_type_curvy</th>\n",
       "      <th>body_type_fit</th>\n",
       "      <th>body_type_full figured</th>\n",
       "      <th>body_type_jacked</th>\n",
       "      <th>body_type_overweight</th>\n",
       "      <th>body_type_rather not say</th>\n",
       "      <th>body_type_skinny</th>\n",
       "      <th>body_type_thin</th>\n",
       "      <th>body_type_used up</th>\n",
       "      <th>diet_anything</th>\n",
       "      <th>diet_halal</th>\n",
       "      <th>diet_kosher</th>\n",
       "      <th>diet_mostly anything</th>\n",
       "      <th>diet_mostly halal</th>\n",
       "      <th>diet_mostly kosher</th>\n",
       "      <th>diet_mostly other</th>\n",
       "      <th>diet_mostly vegan</th>\n",
       "      <th>diet_mostly vegetarian</th>\n",
       "      <th>diet_other</th>\n",
       "      <th>diet_strictly anything</th>\n",
       "      <th>diet_strictly halal</th>\n",
       "      <th>diet_strictly kosher</th>\n",
       "      <th>diet_strictly other</th>\n",
       "      <th>diet_strictly vegan</th>\n",
       "      <th>diet_strictly vegetarian</th>\n",
       "      <th>diet_vegan</th>\n",
       "      <th>diet_vegetarian</th>\n",
       "      <th>drinks_desperately</th>\n",
       "      <th>drinks_not at all</th>\n",
       "      <th>drinks_often</th>\n",
       "      <th>drinks_rarely</th>\n",
       "      <th>drinks_socially</th>\n",
       "      <th>drinks_very often</th>\n",
       "      <th>drugs_never</th>\n",
       "      <th>drugs_often</th>\n",
       "      <th>drugs_sometimes</th>\n",
       "      <th>smokes_no</th>\n",
       "      <th>smokes_sometimes</th>\n",
       "      <th>smokes_trying to quit</th>\n",
       "      <th>smokes_when drinking</th>\n",
       "      <th>smokes_yes</th>\n",
       "      <th>orientation_bisexual</th>\n",
       "      <th>orientation_gay</th>\n",
       "      <th>orientation_straight</th>\n",
       "      <th>has_pets_doesn't have pets</th>\n",
       "      <th>has_pets_has pets</th>\n",
       "      <th>religion_clean_agnosticism</th>\n",
       "      <th>religion_clean_atheism</th>\n",
       "      <th>religion_clean_buddhism</th>\n",
       "      <th>religion_clean_catholicism</th>\n",
       "      <th>religion_clean_christianity</th>\n",
       "      <th>religion_clean_hinduism</th>\n",
       "      <th>religion_clean_islam</th>\n",
       "      <th>religion_clean_judaism</th>\n",
       "      <th>religion_clean_other</th>\n",
       "      <th>sex_f</th>\n",
       "      <th>sex_m</th>\n",
       "      <th>job_artistic / musical / writer</th>\n",
       "      <th>job_banking / financial / real estate</th>\n",
       "      <th>job_clerical / administrative</th>\n",
       "      <th>job_computer / hardware / software</th>\n",
       "      <th>job_construction / craftsmanship</th>\n",
       "      <th>job_education / academia</th>\n",
       "      <th>job_entertainment / media</th>\n",
       "      <th>job_executive / management</th>\n",
       "      <th>job_hospitality / travel</th>\n",
       "      <th>job_law / legal services</th>\n",
       "      <th>job_medicine / health</th>\n",
       "      <th>job_military</th>\n",
       "      <th>job_other</th>\n",
       "      <th>job_political / government</th>\n",
       "      <th>job_rather not say</th>\n",
       "      <th>job_retired</th>\n",
       "      <th>job_sales / marketing / biz dev</th>\n",
       "      <th>job_science / tech / engineering</th>\n",
       "      <th>job_student</th>\n",
       "      <th>job_transportation</th>\n",
       "      <th>job_unemployed</th>\n",
       "    </tr>\n",
       "  </thead>\n",
       "  <tbody>\n",
       "    <tr>\n",
       "      <th>0</th>\n",
       "      <td>gemini</td>\n",
       "      <td>1</td>\n",
       "      <td>0</td>\n",
       "      <td>0</td>\n",
       "      <td>0</td>\n",
       "      <td>0</td>\n",
       "      <td>0</td>\n",
       "      <td>0</td>\n",
       "      <td>0</td>\n",
       "      <td>0</td>\n",
       "      <td>0</td>\n",
       "      <td>0</td>\n",
       "      <td>0</td>\n",
       "      <td>0</td>\n",
       "      <td>0</td>\n",
       "      <td>0</td>\n",
       "      <td>0</td>\n",
       "      <td>0</td>\n",
       "      <td>0</td>\n",
       "      <td>0</td>\n",
       "      <td>0</td>\n",
       "      <td>0</td>\n",
       "      <td>0</td>\n",
       "      <td>1</td>\n",
       "      <td>0</td>\n",
       "      <td>0</td>\n",
       "      <td>0</td>\n",
       "      <td>0</td>\n",
       "      <td>0</td>\n",
       "      <td>0</td>\n",
       "      <td>0</td>\n",
       "      <td>0</td>\n",
       "      <td>0</td>\n",
       "      <td>0</td>\n",
       "      <td>0</td>\n",
       "      <td>1</td>\n",
       "      <td>0</td>\n",
       "      <td>1</td>\n",
       "      <td>0</td>\n",
       "      <td>0</td>\n",
       "      <td>0</td>\n",
       "      <td>1</td>\n",
       "      <td>0</td>\n",
       "      <td>0</td>\n",
       "      <td>0</td>\n",
       "      <td>0</td>\n",
       "      <td>0</td>\n",
       "      <td>1</td>\n",
       "      <td>1</td>\n",
       "      <td>0</td>\n",
       "      <td>1</td>\n",
       "      <td>0</td>\n",
       "      <td>0</td>\n",
       "      <td>0</td>\n",
       "      <td>0</td>\n",
       "      <td>0</td>\n",
       "      <td>0</td>\n",
       "      <td>0</td>\n",
       "      <td>0</td>\n",
       "      <td>0</td>\n",
       "      <td>1</td>\n",
       "      <td>0</td>\n",
       "      <td>0</td>\n",
       "      <td>0</td>\n",
       "      <td>0</td>\n",
       "      <td>0</td>\n",
       "      <td>0</td>\n",
       "      <td>0</td>\n",
       "      <td>0</td>\n",
       "      <td>0</td>\n",
       "      <td>0</td>\n",
       "      <td>0</td>\n",
       "      <td>0</td>\n",
       "      <td>0</td>\n",
       "      <td>0</td>\n",
       "      <td>0</td>\n",
       "      <td>0</td>\n",
       "      <td>0</td>\n",
       "      <td>0</td>\n",
       "      <td>0</td>\n",
       "      <td>1</td>\n",
       "      <td>0</td>\n",
       "    </tr>\n",
       "    <tr>\n",
       "      <th>1</th>\n",
       "      <td>cancer</td>\n",
       "      <td>0</td>\n",
       "      <td>0</td>\n",
       "      <td>1</td>\n",
       "      <td>0</td>\n",
       "      <td>0</td>\n",
       "      <td>0</td>\n",
       "      <td>0</td>\n",
       "      <td>0</td>\n",
       "      <td>0</td>\n",
       "      <td>0</td>\n",
       "      <td>0</td>\n",
       "      <td>0</td>\n",
       "      <td>0</td>\n",
       "      <td>0</td>\n",
       "      <td>0</td>\n",
       "      <td>0</td>\n",
       "      <td>0</td>\n",
       "      <td>0</td>\n",
       "      <td>1</td>\n",
       "      <td>0</td>\n",
       "      <td>0</td>\n",
       "      <td>0</td>\n",
       "      <td>0</td>\n",
       "      <td>0</td>\n",
       "      <td>0</td>\n",
       "      <td>0</td>\n",
       "      <td>0</td>\n",
       "      <td>0</td>\n",
       "      <td>0</td>\n",
       "      <td>0</td>\n",
       "      <td>0</td>\n",
       "      <td>0</td>\n",
       "      <td>1</td>\n",
       "      <td>0</td>\n",
       "      <td>0</td>\n",
       "      <td>0</td>\n",
       "      <td>0</td>\n",
       "      <td>0</td>\n",
       "      <td>1</td>\n",
       "      <td>1</td>\n",
       "      <td>0</td>\n",
       "      <td>0</td>\n",
       "      <td>0</td>\n",
       "      <td>0</td>\n",
       "      <td>0</td>\n",
       "      <td>0</td>\n",
       "      <td>1</td>\n",
       "      <td>1</td>\n",
       "      <td>0</td>\n",
       "      <td>1</td>\n",
       "      <td>0</td>\n",
       "      <td>0</td>\n",
       "      <td>0</td>\n",
       "      <td>0</td>\n",
       "      <td>0</td>\n",
       "      <td>0</td>\n",
       "      <td>0</td>\n",
       "      <td>0</td>\n",
       "      <td>0</td>\n",
       "      <td>1</td>\n",
       "      <td>0</td>\n",
       "      <td>0</td>\n",
       "      <td>0</td>\n",
       "      <td>0</td>\n",
       "      <td>0</td>\n",
       "      <td>0</td>\n",
       "      <td>0</td>\n",
       "      <td>0</td>\n",
       "      <td>1</td>\n",
       "      <td>0</td>\n",
       "      <td>0</td>\n",
       "      <td>0</td>\n",
       "      <td>0</td>\n",
       "      <td>0</td>\n",
       "      <td>0</td>\n",
       "      <td>0</td>\n",
       "      <td>0</td>\n",
       "      <td>0</td>\n",
       "      <td>0</td>\n",
       "      <td>0</td>\n",
       "      <td>0</td>\n",
       "    </tr>\n",
       "    <tr>\n",
       "      <th>7</th>\n",
       "      <td>sagittarius</td>\n",
       "      <td>0</td>\n",
       "      <td>0</td>\n",
       "      <td>1</td>\n",
       "      <td>0</td>\n",
       "      <td>0</td>\n",
       "      <td>0</td>\n",
       "      <td>0</td>\n",
       "      <td>0</td>\n",
       "      <td>0</td>\n",
       "      <td>0</td>\n",
       "      <td>0</td>\n",
       "      <td>0</td>\n",
       "      <td>0</td>\n",
       "      <td>0</td>\n",
       "      <td>0</td>\n",
       "      <td>1</td>\n",
       "      <td>0</td>\n",
       "      <td>0</td>\n",
       "      <td>0</td>\n",
       "      <td>0</td>\n",
       "      <td>0</td>\n",
       "      <td>0</td>\n",
       "      <td>0</td>\n",
       "      <td>0</td>\n",
       "      <td>0</td>\n",
       "      <td>0</td>\n",
       "      <td>0</td>\n",
       "      <td>0</td>\n",
       "      <td>0</td>\n",
       "      <td>0</td>\n",
       "      <td>0</td>\n",
       "      <td>0</td>\n",
       "      <td>0</td>\n",
       "      <td>0</td>\n",
       "      <td>1</td>\n",
       "      <td>0</td>\n",
       "      <td>1</td>\n",
       "      <td>0</td>\n",
       "      <td>0</td>\n",
       "      <td>1</td>\n",
       "      <td>0</td>\n",
       "      <td>0</td>\n",
       "      <td>0</td>\n",
       "      <td>0</td>\n",
       "      <td>0</td>\n",
       "      <td>0</td>\n",
       "      <td>1</td>\n",
       "      <td>1</td>\n",
       "      <td>0</td>\n",
       "      <td>0</td>\n",
       "      <td>0</td>\n",
       "      <td>0</td>\n",
       "      <td>0</td>\n",
       "      <td>1</td>\n",
       "      <td>0</td>\n",
       "      <td>0</td>\n",
       "      <td>0</td>\n",
       "      <td>0</td>\n",
       "      <td>1</td>\n",
       "      <td>0</td>\n",
       "      <td>1</td>\n",
       "      <td>0</td>\n",
       "      <td>0</td>\n",
       "      <td>0</td>\n",
       "      <td>0</td>\n",
       "      <td>0</td>\n",
       "      <td>0</td>\n",
       "      <td>0</td>\n",
       "      <td>0</td>\n",
       "      <td>0</td>\n",
       "      <td>0</td>\n",
       "      <td>0</td>\n",
       "      <td>0</td>\n",
       "      <td>0</td>\n",
       "      <td>0</td>\n",
       "      <td>0</td>\n",
       "      <td>0</td>\n",
       "      <td>0</td>\n",
       "      <td>0</td>\n",
       "      <td>0</td>\n",
       "      <td>0</td>\n",
       "    </tr>\n",
       "    <tr>\n",
       "      <th>9</th>\n",
       "      <td>cancer</td>\n",
       "      <td>0</td>\n",
       "      <td>1</td>\n",
       "      <td>0</td>\n",
       "      <td>0</td>\n",
       "      <td>0</td>\n",
       "      <td>0</td>\n",
       "      <td>0</td>\n",
       "      <td>0</td>\n",
       "      <td>0</td>\n",
       "      <td>0</td>\n",
       "      <td>0</td>\n",
       "      <td>0</td>\n",
       "      <td>0</td>\n",
       "      <td>0</td>\n",
       "      <td>0</td>\n",
       "      <td>1</td>\n",
       "      <td>0</td>\n",
       "      <td>0</td>\n",
       "      <td>0</td>\n",
       "      <td>0</td>\n",
       "      <td>0</td>\n",
       "      <td>0</td>\n",
       "      <td>0</td>\n",
       "      <td>0</td>\n",
       "      <td>0</td>\n",
       "      <td>0</td>\n",
       "      <td>0</td>\n",
       "      <td>0</td>\n",
       "      <td>0</td>\n",
       "      <td>0</td>\n",
       "      <td>0</td>\n",
       "      <td>1</td>\n",
       "      <td>0</td>\n",
       "      <td>0</td>\n",
       "      <td>0</td>\n",
       "      <td>0</td>\n",
       "      <td>1</td>\n",
       "      <td>0</td>\n",
       "      <td>0</td>\n",
       "      <td>1</td>\n",
       "      <td>0</td>\n",
       "      <td>0</td>\n",
       "      <td>0</td>\n",
       "      <td>0</td>\n",
       "      <td>0</td>\n",
       "      <td>0</td>\n",
       "      <td>1</td>\n",
       "      <td>1</td>\n",
       "      <td>0</td>\n",
       "      <td>0</td>\n",
       "      <td>1</td>\n",
       "      <td>0</td>\n",
       "      <td>0</td>\n",
       "      <td>0</td>\n",
       "      <td>0</td>\n",
       "      <td>0</td>\n",
       "      <td>0</td>\n",
       "      <td>0</td>\n",
       "      <td>0</td>\n",
       "      <td>1</td>\n",
       "      <td>0</td>\n",
       "      <td>0</td>\n",
       "      <td>0</td>\n",
       "      <td>0</td>\n",
       "      <td>0</td>\n",
       "      <td>0</td>\n",
       "      <td>0</td>\n",
       "      <td>0</td>\n",
       "      <td>0</td>\n",
       "      <td>0</td>\n",
       "      <td>0</td>\n",
       "      <td>0</td>\n",
       "      <td>0</td>\n",
       "      <td>0</td>\n",
       "      <td>0</td>\n",
       "      <td>0</td>\n",
       "      <td>0</td>\n",
       "      <td>0</td>\n",
       "      <td>1</td>\n",
       "      <td>0</td>\n",
       "      <td>0</td>\n",
       "    </tr>\n",
       "    <tr>\n",
       "      <th>11</th>\n",
       "      <td>leo</td>\n",
       "      <td>0</td>\n",
       "      <td>0</td>\n",
       "      <td>1</td>\n",
       "      <td>0</td>\n",
       "      <td>0</td>\n",
       "      <td>0</td>\n",
       "      <td>0</td>\n",
       "      <td>0</td>\n",
       "      <td>0</td>\n",
       "      <td>0</td>\n",
       "      <td>0</td>\n",
       "      <td>0</td>\n",
       "      <td>0</td>\n",
       "      <td>0</td>\n",
       "      <td>0</td>\n",
       "      <td>1</td>\n",
       "      <td>0</td>\n",
       "      <td>0</td>\n",
       "      <td>0</td>\n",
       "      <td>0</td>\n",
       "      <td>0</td>\n",
       "      <td>0</td>\n",
       "      <td>0</td>\n",
       "      <td>0</td>\n",
       "      <td>0</td>\n",
       "      <td>0</td>\n",
       "      <td>0</td>\n",
       "      <td>0</td>\n",
       "      <td>0</td>\n",
       "      <td>0</td>\n",
       "      <td>0</td>\n",
       "      <td>0</td>\n",
       "      <td>0</td>\n",
       "      <td>0</td>\n",
       "      <td>1</td>\n",
       "      <td>0</td>\n",
       "      <td>1</td>\n",
       "      <td>0</td>\n",
       "      <td>0</td>\n",
       "      <td>1</td>\n",
       "      <td>0</td>\n",
       "      <td>0</td>\n",
       "      <td>0</td>\n",
       "      <td>0</td>\n",
       "      <td>0</td>\n",
       "      <td>0</td>\n",
       "      <td>1</td>\n",
       "      <td>1</td>\n",
       "      <td>0</td>\n",
       "      <td>0</td>\n",
       "      <td>0</td>\n",
       "      <td>0</td>\n",
       "      <td>0</td>\n",
       "      <td>1</td>\n",
       "      <td>0</td>\n",
       "      <td>0</td>\n",
       "      <td>0</td>\n",
       "      <td>0</td>\n",
       "      <td>0</td>\n",
       "      <td>1</td>\n",
       "      <td>0</td>\n",
       "      <td>1</td>\n",
       "      <td>0</td>\n",
       "      <td>0</td>\n",
       "      <td>0</td>\n",
       "      <td>0</td>\n",
       "      <td>0</td>\n",
       "      <td>0</td>\n",
       "      <td>0</td>\n",
       "      <td>0</td>\n",
       "      <td>0</td>\n",
       "      <td>0</td>\n",
       "      <td>0</td>\n",
       "      <td>0</td>\n",
       "      <td>0</td>\n",
       "      <td>0</td>\n",
       "      <td>0</td>\n",
       "      <td>0</td>\n",
       "      <td>0</td>\n",
       "      <td>0</td>\n",
       "      <td>0</td>\n",
       "    </tr>\n",
       "  </tbody>\n",
       "</table>\n",
       "</div>"
      ],
      "text/plain": [
       "     sign_clean  body_type_a little extra  body_type_athletic  \\\n",
       "0        gemini                         1                   0   \n",
       "1        cancer                         0                   0   \n",
       "7   sagittarius                         0                   0   \n",
       "9        cancer                         0                   1   \n",
       "11          leo                         0                   0   \n",
       "\n",
       "    body_type_average  body_type_curvy  body_type_fit  body_type_full figured  \\\n",
       "0                   0                0              0                       0   \n",
       "1                   1                0              0                       0   \n",
       "7                   1                0              0                       0   \n",
       "9                   0                0              0                       0   \n",
       "11                  1                0              0                       0   \n",
       "\n",
       "    body_type_jacked  body_type_overweight  body_type_rather not say  \\\n",
       "0                  0                     0                         0   \n",
       "1                  0                     0                         0   \n",
       "7                  0                     0                         0   \n",
       "9                  0                     0                         0   \n",
       "11                 0                     0                         0   \n",
       "\n",
       "    body_type_skinny  body_type_thin  body_type_used up  diet_anything  \\\n",
       "0                  0               0                  0              0   \n",
       "1                  0               0                  0              0   \n",
       "7                  0               0                  0              0   \n",
       "9                  0               0                  0              0   \n",
       "11                 0               0                  0              0   \n",
       "\n",
       "    diet_halal  diet_kosher  diet_mostly anything  diet_mostly halal  \\\n",
       "0            0            0                     0                  0   \n",
       "1            0            0                     0                  0   \n",
       "7            0            0                     1                  0   \n",
       "9            0            0                     1                  0   \n",
       "11           0            0                     1                  0   \n",
       "\n",
       "    diet_mostly kosher  diet_mostly other  diet_mostly vegan  \\\n",
       "0                    0                  0                  0   \n",
       "1                    0                  1                  0   \n",
       "7                    0                  0                  0   \n",
       "9                    0                  0                  0   \n",
       "11                   0                  0                  0   \n",
       "\n",
       "    diet_mostly vegetarian  diet_other  diet_strictly anything  \\\n",
       "0                        0           0                       1   \n",
       "1                        0           0                       0   \n",
       "7                        0           0                       0   \n",
       "9                        0           0                       0   \n",
       "11                       0           0                       0   \n",
       "\n",
       "    diet_strictly halal  diet_strictly kosher  diet_strictly other  \\\n",
       "0                     0                     0                    0   \n",
       "1                     0                     0                    0   \n",
       "7                     0                     0                    0   \n",
       "9                     0                     0                    0   \n",
       "11                    0                     0                    0   \n",
       "\n",
       "    diet_strictly vegan  diet_strictly vegetarian  diet_vegan  \\\n",
       "0                     0                         0           0   \n",
       "1                     0                         0           0   \n",
       "7                     0                         0           0   \n",
       "9                     0                         0           0   \n",
       "11                    0                         0           0   \n",
       "\n",
       "    diet_vegetarian  drinks_desperately  drinks_not at all  drinks_often  \\\n",
       "0                 0                   0                  0             0   \n",
       "1                 0                   0                  0             1   \n",
       "7                 0                   0                  0             0   \n",
       "9                 0                   0                  1             0   \n",
       "11                0                   0                  0             0   \n",
       "\n",
       "    drinks_rarely  drinks_socially  drinks_very often  drugs_never  \\\n",
       "0               0                1                  0            1   \n",
       "1               0                0                  0            0   \n",
       "7               0                1                  0            1   \n",
       "9               0                0                  0            1   \n",
       "11              0                1                  0            1   \n",
       "\n",
       "    drugs_often  drugs_sometimes  smokes_no  smokes_sometimes  \\\n",
       "0             0                0          0                 1   \n",
       "1             0                1          1                 0   \n",
       "7             0                0          1                 0   \n",
       "9             0                0          1                 0   \n",
       "11            0                0          1                 0   \n",
       "\n",
       "    smokes_trying to quit  smokes_when drinking  smokes_yes  \\\n",
       "0                       0                     0           0   \n",
       "1                       0                     0           0   \n",
       "7                       0                     0           0   \n",
       "9                       0                     0           0   \n",
       "11                      0                     0           0   \n",
       "\n",
       "    orientation_bisexual  orientation_gay  orientation_straight  \\\n",
       "0                      0                0                     1   \n",
       "1                      0                0                     1   \n",
       "7                      0                0                     1   \n",
       "9                      0                0                     1   \n",
       "11                     0                0                     1   \n",
       "\n",
       "    has_pets_doesn't have pets  has_pets_has pets  religion_clean_agnosticism  \\\n",
       "0                            1                  0                           1   \n",
       "1                            1                  0                           1   \n",
       "7                            1                  0                           0   \n",
       "9                            1                  0                           0   \n",
       "11                           1                  0                           0   \n",
       "\n",
       "    religion_clean_atheism  religion_clean_buddhism  \\\n",
       "0                        0                        0   \n",
       "1                        0                        0   \n",
       "7                        0                        0   \n",
       "9                        1                        0   \n",
       "11                       0                        0   \n",
       "\n",
       "    religion_clean_catholicism  religion_clean_christianity  \\\n",
       "0                            0                            0   \n",
       "1                            0                            0   \n",
       "7                            0                            1   \n",
       "9                            0                            0   \n",
       "11                           0                            1   \n",
       "\n",
       "    religion_clean_hinduism  religion_clean_islam  religion_clean_judaism  \\\n",
       "0                         0                     0                       0   \n",
       "1                         0                     0                       0   \n",
       "7                         0                     0                       0   \n",
       "9                         0                     0                       0   \n",
       "11                        0                     0                       0   \n",
       "\n",
       "    religion_clean_other  sex_f  sex_m  job_artistic / musical / writer  \\\n",
       "0                      0      0      1                                0   \n",
       "1                      0      0      1                                0   \n",
       "7                      0      1      0                                1   \n",
       "9                      0      0      1                                0   \n",
       "11                     0      0      1                                0   \n",
       "\n",
       "    job_banking / financial / real estate  job_clerical / administrative  \\\n",
       "0                                       0                              0   \n",
       "1                                       0                              0   \n",
       "7                                       0                              0   \n",
       "9                                       0                              0   \n",
       "11                                      1                              0   \n",
       "\n",
       "    job_computer / hardware / software  job_construction / craftsmanship  \\\n",
       "0                                    0                                 0   \n",
       "1                                    0                                 0   \n",
       "7                                    0                                 0   \n",
       "9                                    0                                 0   \n",
       "11                                   0                                 0   \n",
       "\n",
       "    job_education / academia  job_entertainment / media  \\\n",
       "0                          0                          0   \n",
       "1                          0                          0   \n",
       "7                          0                          0   \n",
       "9                          0                          0   \n",
       "11                         0                          0   \n",
       "\n",
       "    job_executive / management  job_hospitality / travel  \\\n",
       "0                            0                         0   \n",
       "1                            0                         1   \n",
       "7                            0                         0   \n",
       "9                            0                         0   \n",
       "11                           0                         0   \n",
       "\n",
       "    job_law / legal services  job_medicine / health  job_military  job_other  \\\n",
       "0                          0                      0             0          0   \n",
       "1                          0                      0             0          0   \n",
       "7                          0                      0             0          0   \n",
       "9                          0                      0             0          0   \n",
       "11                         0                      0             0          0   \n",
       "\n",
       "    job_political / government  job_rather not say  job_retired  \\\n",
       "0                            0                   0            0   \n",
       "1                            0                   0            0   \n",
       "7                            0                   0            0   \n",
       "9                            0                   0            0   \n",
       "11                           0                   0            0   \n",
       "\n",
       "    job_sales / marketing / biz dev  job_science / tech / engineering  \\\n",
       "0                                 0                                 0   \n",
       "1                                 0                                 0   \n",
       "7                                 0                                 0   \n",
       "9                                 0                                 0   \n",
       "11                                0                                 0   \n",
       "\n",
       "    job_student  job_transportation  job_unemployed  \n",
       "0             0                   1               0  \n",
       "1             0                   0               0  \n",
       "7             0                   0               0  \n",
       "9             1                   0               0  \n",
       "11            0                   0               0  "
      ]
     },
     "execution_count": 71,
     "metadata": {},
     "output_type": "execute_result"
    }
   ],
   "source": [
    "df.head()"
   ]
  },
  {
   "cell_type": "markdown",
   "metadata": {},
   "source": [
    "Next the data is split into train and validation sets. In this split 80% of the data is kept for training the model, while 20% of the data is reserved for the final validation. "
   ]
  },
  {
   "cell_type": "code",
   "execution_count": 72,
   "metadata": {},
   "outputs": [],
   "source": [
    "col_length = len(df.columns)\n",
    "\n",
    "#Y is the target column, X has the rest\n",
    "X = df.iloc[:, 1:col_length]\n",
    "Y = df.iloc[:, 0:1]\n",
    "\n",
    "#Validation chunk size\n",
    "val_size = 0.2\n",
    "\n",
    "#Split the data into train set and test set\n",
    "X_train, X_test, Y_train, Y_test = train_test_split(X, Y, test_size=val_size, random_state = 0)"
   ]
  },
  {
   "cell_type": "code",
   "execution_count": 73,
   "metadata": {},
   "outputs": [
    {
     "name": "stdout",
     "output_type": "stream",
     "text": [
      "Length data set for training:  10341\n",
      "Length data set for testing:  2586\n"
     ]
    }
   ],
   "source": [
    "print('Length data set for training: ', len(X_train))\n",
    "print('Length data set for testing: ', len(X_test))"
   ]
  },
  {
   "cell_type": "markdown",
   "metadata": {},
   "source": [
    "#### Logistic regression model\n",
    "\n",
    "Train and test a `LogisticRegression` model to predict the astological sign from other features.\n",
    "- Accuracy = (TP + TN) / (TP + TN + FP + FN)\n",
    "- Recall = TP / (TP + FN)\n",
    "- Precision = TP / (TP + FP)\n",
    "- F1-score = (2 * Recall * Precision) / (Recall + Precision)"
   ]
  },
  {
   "cell_type": "code",
   "execution_count": 74,
   "metadata": {},
   "outputs": [],
   "source": [
    "lr_model = LogisticRegression(multi_class=\"multinomial\").fit(X_train, Y_train)\n",
    "lr_predictions = lr_model.predict(X_train)\n"
   ]
  },
  {
   "cell_type": "code",
   "execution_count": 75,
   "metadata": {},
   "outputs": [
    {
     "name": "stdout",
     "output_type": "stream",
     "text": [
      "Score of the train data set: 0.126\n",
      "Score of the test data set: 0.082\n"
     ]
    }
   ],
   "source": [
    "print('Score of the train data set: {:0.3f}'.format(lr_model.score(X_train, Y_train)))\n",
    "print('Score of the test data set: {:0.3f}'.format(lr_model.score(X_test, Y_test)))"
   ]
  },
  {
   "cell_type": "markdown",
   "metadata": {},
   "source": [
    "For 12 categories, the \"chance\" level of correctly predicting a category is 8%. That means, an accuracy, precision and recall of 12% is a poor result. For the test data set, the score of 0.08 represents the \"chance\" level."
   ]
  },
  {
   "cell_type": "code",
   "execution_count": 76,
   "metadata": {},
   "outputs": [
    {
     "name": "stdout",
     "output_type": "stream",
     "text": [
      "              precision    recall  f1-score   support\n",
      "\n",
      "    aquarius       0.11      0.06      0.07       805\n",
      "       aries       0.12      0.12      0.12       839\n",
      "      cancer       0.14      0.16      0.15       902\n",
      "   capricorn       0.13      0.07      0.09       785\n",
      "      gemini       0.12      0.14      0.13       932\n",
      "         leo       0.14      0.19      0.17       910\n",
      "       libra       0.11      0.13      0.12       871\n",
      "      pisces       0.13      0.16      0.14       858\n",
      " sagittarius       0.15      0.09      0.11       812\n",
      "     scorpio       0.13      0.07      0.09       835\n",
      "      taurus       0.13      0.07      0.09       859\n",
      "       virgo       0.12      0.22      0.15       933\n",
      "\n",
      "    accuracy                           0.13     10341\n",
      "   macro avg       0.13      0.12      0.12     10341\n",
      "weighted avg       0.13      0.13      0.12     10341\n",
      "\n"
     ]
    }
   ],
   "source": [
    "print(classification_report(Y_train, lr_predictions))"
   ]
  },
  {
   "cell_type": "markdown",
   "metadata": {},
   "source": [
    "#### K-Nearest Neighbor\n",
    "\n",
    "Next, we'll try the `KNeighborsClassifier` which will first use the default value for `n_neighbors = 5` to predict the signs. "
   ]
  },
  {
   "cell_type": "code",
   "execution_count": 77,
   "metadata": {
    "scrolled": true
   },
   "outputs": [
    {
     "name": "stdout",
     "output_type": "stream",
     "text": [
      "Score of the train data set: 0.337\n",
      "Score of the test data set: 0.085\n"
     ]
    }
   ],
   "source": [
    "knn_model = KNeighborsClassifier(n_neighbors = 5).fit(X_train, Y_train)\n",
    "knn_predictions = knn_model.predict(X_train)\n",
    "print('Score of the train data set: {:0.3f}'.format(knn_model.score(X_train, Y_train)))\n",
    "print('Score of the test data set: {:0.3f}'.format(knn_model.score(X_test, Y_test)))"
   ]
  },
  {
   "cell_type": "code",
   "execution_count": 78,
   "metadata": {
    "scrolled": false
   },
   "outputs": [
    {
     "name": "stdout",
     "output_type": "stream",
     "text": [
      "              precision    recall  f1-score   support\n",
      "\n",
      "    aquarius       0.25      0.64      0.36       805\n",
      "       aries       0.28      0.55      0.37       839\n",
      "      cancer       0.31      0.46      0.37       902\n",
      "   capricorn       0.33      0.34      0.33       785\n",
      "      gemini       0.35      0.30      0.33       932\n",
      "         leo       0.39      0.27      0.32       910\n",
      "       libra       0.42      0.30      0.35       871\n",
      "      pisces       0.42      0.28      0.33       858\n",
      " sagittarius       0.44      0.23      0.30       812\n",
      "     scorpio       0.42      0.23      0.30       835\n",
      "      taurus       0.43      0.23      0.30       859\n",
      "       virgo       0.42      0.26      0.32       933\n",
      "\n",
      "    accuracy                           0.34     10341\n",
      "   macro avg       0.37      0.34      0.33     10341\n",
      "weighted avg       0.37      0.34      0.33     10341\n",
      "\n"
     ]
    }
   ],
   "source": [
    "print(classification_report(Y_train, knn_predictions))"
   ]
  },
  {
   "cell_type": "markdown",
   "metadata": {},
   "source": [
    "With a 34% accuracy and 37% precision, this model is performing better."
   ]
  },
  {
   "cell_type": "code",
   "execution_count": 79,
   "metadata": {},
   "outputs": [
    {
     "name": "stdout",
     "output_type": "stream",
     "text": [
      "              precision    recall  f1-score   support\n",
      "\n",
      "    aquarius       0.08      0.22      0.11       178\n",
      "       aries       0.10      0.19      0.13       212\n",
      "      cancer       0.07      0.09      0.08       246\n",
      "   capricorn       0.04      0.06      0.05       168\n",
      "      gemini       0.08      0.06      0.07       231\n",
      "         leo       0.13      0.09      0.11       254\n",
      "       libra       0.09      0.07      0.08       199\n",
      "      pisces       0.08      0.06      0.07       181\n",
      " sagittarius       0.06      0.03      0.04       224\n",
      "     scorpio       0.11      0.07      0.08       228\n",
      "      taurus       0.12      0.05      0.07       234\n",
      "       virgo       0.11      0.06      0.07       231\n",
      "\n",
      "    accuracy                           0.09      2586\n",
      "   macro avg       0.09      0.09      0.08      2586\n",
      "weighted avg       0.09      0.09      0.08      2586\n",
      "\n"
     ]
    }
   ],
   "source": [
    "knn_predictions = knn_model.predict(X_test)\n",
    "print(classification_report(Y_test, knn_predictions))"
   ]
  },
  {
   "cell_type": "markdown",
   "metadata": {},
   "source": [
    "This model had a better score for the train data set (33%), but still a chance score for the train data set (8%). This shows that the model was overfit for the train data set and it didn't generalize for the test data set.\n",
    "\n",
    "Let's try different values for `n_neighbors` to predict the signs."
   ]
  },
  {
   "cell_type": "code",
   "execution_count": 80,
   "metadata": {
    "scrolled": true
   },
   "outputs": [],
   "source": [
    "max_n_neighbors = 21\n",
    "score_train = []\n",
    "score_test = []\n",
    "for n in range(1,max_n_neighbors+1,2):\n",
    "    knn_model = KNeighborsClassifier(n_neighbors = n).fit(X_train, Y_train)\n",
    "    score_train.append(knn_model.score(X_train, Y_train))\n",
    "    score_test.append(knn_model.score(X_test, Y_test))"
   ]
  },
  {
   "cell_type": "code",
   "execution_count": 81,
   "metadata": {},
   "outputs": [
    {
     "data": {
      "image/png": "[encoded data removed]",
      "text/plain": [
       "<Figure size 432x288 with 1 Axes>"
      ]
     },
     "metadata": {
      "needs_background": "light"
     },
     "output_type": "display_data"
    }
   ],
   "source": [
    "fs = 17\n",
    "plt.figure(figsize = (6,4))\n",
    "plt.subplots_adjust(bottom=0.15, left = 0.15)\n",
    "ax= plt.subplot()\n",
    "plt.plot(range(1, max_n_neighbors+1, 2), score_train, 'bo-', label = 'train data')\n",
    "plt.plot(range(1, max_n_neighbors+1, 2), score_test, 'ro-', label = 'test data')\n",
    "plt.plot([1, max_n_neighbors+1], [1/12, 1/12], 'k--', label = 'chance level')\n",
    "plt.xlabel('# Neighbors', fontsize = fs)\n",
    "plt.ylabel('Score', fontsize = fs)\n",
    "plt.xticks(fontsize=14)\n",
    "plt.yticks(fontsize=14)\n",
    "plt.ylim([0,1])\n",
    "plt.legend()\n",
    "#plt.show()\n",
    "plt.savefig(\"Score_knn.png\")"
   ]
  },
  {
   "cell_type": "markdown",
   "metadata": {},
   "source": [
    "We can notice that the prediction score for the train data set is decreasing with the number of nearest neighbors, while the score remains constant below 10% for the test data set."
   ]
  },
  {
   "cell_type": "markdown",
   "metadata": {},
   "source": [
    "#### Decision Tree\n",
    "\n",
    "The next model is the decision tree. The default `max_depth` is `none` which means that it will \"If None, then nodes are expanded until all leaves are pure or until all leaves contain less than min_samples_split samples.\". "
   ]
  },
  {
   "cell_type": "code",
   "execution_count": 82,
   "metadata": {},
   "outputs": [],
   "source": [
    "cart_model = DecisionTreeClassifier().fit(X_train, Y_train) \n",
    "cart_predictions = cart_model.predict(X_train) "
   ]
  },
  {
   "cell_type": "code",
   "execution_count": 83,
   "metadata": {
    "scrolled": true
   },
   "outputs": [
    {
     "name": "stdout",
     "output_type": "stream",
     "text": [
      "              precision    recall  f1-score   support\n",
      "\n",
      "    aquarius       0.74      0.94      0.83       805\n",
      "       aries       0.73      0.93      0.82       839\n",
      "      cancer       0.79      0.91      0.84       902\n",
      "   capricorn       0.82      0.89      0.85       785\n",
      "      gemini       0.81      0.87      0.84       932\n",
      "         leo       0.84      0.87      0.86       910\n",
      "       libra       0.86      0.83      0.84       871\n",
      "      pisces       0.90      0.78      0.84       858\n",
      " sagittarius       0.89      0.78      0.83       812\n",
      "     scorpio       0.96      0.78      0.86       835\n",
      "      taurus       0.94      0.78      0.86       859\n",
      "       virgo       0.96      0.76      0.85       933\n",
      "\n",
      "    accuracy                           0.84     10341\n",
      "   macro avg       0.85      0.84      0.84     10341\n",
      "weighted avg       0.86      0.84      0.84     10341\n",
      "\n"
     ]
    }
   ],
   "source": [
    "print(classification_report(Y_train, cart_predictions))"
   ]
  },
  {
   "cell_type": "markdown",
   "metadata": {},
   "source": [
    "With 84% accuracy, this model is performing the best among the three models"
   ]
  },
  {
   "cell_type": "markdown",
   "metadata": {},
   "source": [
    "Confusion matrix showing the results with the true values on the y axis and predicted values along the x axis. "
   ]
  },
  {
   "cell_type": "code",
   "execution_count": 84,
   "metadata": {},
   "outputs": [],
   "source": [
    "cart_cm = confusion_matrix(Y_train, cart_predictions)\n",
    "cart_labels = cart_model.classes_"
   ]
  },
  {
   "cell_type": "code",
   "execution_count": 85,
   "metadata": {},
   "outputs": [
    {
     "data": {
      "image/png": "[encoded data removed]",
      "text/plain": [
       "<Figure size 720x504 with 2 Axes>"
      ]
     },
     "metadata": {
      "needs_background": "light"
     },
     "output_type": "display_data"
    }
   ],
   "source": [
    "plt.figure(figsize=(10,7))\n",
    "\n",
    "ax= plt.subplot()\n",
    "sns.heatmap(cart_cm, annot=True, ax = ax,fmt=\"d\", cmap = 'crest');\n",
    "\n",
    "# labels, title and ticks\n",
    "ax.set_xlabel('Predicted labels');\n",
    "ax.set_ylabel('True labels'); \n",
    "ax.set_title('Confusion Matrix');\n",
    "ax.yaxis.set_tick_params(rotation=360)\n",
    "ax.xaxis.set_tick_params(rotation=90)\n",
    "\n",
    "ax.xaxis.set_ticklabels(cart_labels); \n",
    "ax.yaxis.set_ticklabels(cart_labels);"
   ]
  },
  {
   "cell_type": "code",
   "execution_count": 86,
   "metadata": {},
   "outputs": [
    {
     "data": {
      "text/plain": [
       "60"
      ]
     },
     "execution_count": 86,
     "metadata": {},
     "output_type": "execute_result"
    }
   ],
   "source": [
    "cart_model.get_depth()"
   ]
  },
  {
   "cell_type": "markdown",
   "metadata": {},
   "source": [
    "Going back to the model, a quick analysis will show that this tree model has a depth of 60 branches, which will probably not generalize to another dataset. In this case this model has been \"overfit\" for this data. "
   ]
  },
  {
   "cell_type": "markdown",
   "metadata": {},
   "source": [
    "Next, let's have a look at how the model performs with different `max_depth` values"
   ]
  },
  {
   "cell_type": "code",
   "execution_count": 87,
   "metadata": {},
   "outputs": [],
   "source": [
    "max_max_depth = 62\n",
    "step_max_depth = 5\n",
    "score_train = []\n",
    "score_test = []\n",
    "for n in range(1,max_max_depth,step_max_depth):\n",
    "    cart_model = DecisionTreeClassifier(max_depth = n).fit(X_train, Y_train) \n",
    "    score_train.append(cart_model.score(X_train, Y_train))\n",
    "    score_test.append(cart_model.score(X_test, Y_test))"
   ]
  },
  {
   "cell_type": "code",
   "execution_count": 88,
   "metadata": {
    "scrolled": true
   },
   "outputs": [
    {
     "data": {
      "image/png": "[encoded data removed]",
      "text/plain": [
       "<Figure size 432x288 with 1 Axes>"
      ]
     },
     "metadata": {
      "needs_background": "light"
     },
     "output_type": "display_data"
    }
   ],
   "source": [
    "fs = 17\n",
    "plt.figure(figsize = (6,4))\n",
    "plt.subplots_adjust(bottom=0.15, left = 0.15)\n",
    "ax= plt.subplot()\n",
    "plt.plot(range(1,max_max_depth,step_max_depth), score_train, 'bo-', label = 'train data')\n",
    "plt.plot(range(1,max_max_depth,step_max_depth), score_test, 'ro-', label = 'test data')\n",
    "plt.plot([1, max_max_depth+1], [1/12, 1/12], 'k--', label = 'chance level')\n",
    "plt.xlabel('Max depth', fontsize = fs)\n",
    "plt.ylabel('Score', fontsize = fs)\n",
    "plt.xticks(fontsize=14)\n",
    "plt.yticks(fontsize=14)\n",
    "plt.ylim([0,1])\n",
    "plt.legend()\n",
    "#plt.show()\n",
    "plt.savefig(\"Score_decTree.png\")"
   ]
  },
  {
   "cell_type": "markdown",
   "metadata": {},
   "source": [
    "The model indeed tends to overfit with a higher `max_depth` and it doesn't generalize for the test data set. "
   ]
  },
  {
   "cell_type": "markdown",
   "metadata": {},
   "source": [
    "#### Random forest\n",
    "This model is similar to the one above. A random forest has many decision trees and it returns their aggregated predictions."
   ]
  },
  {
   "cell_type": "code",
   "execution_count": 89,
   "metadata": {
    "scrolled": true
   },
   "outputs": [],
   "source": [
    "max_estimators = 15\n",
    "score_train = []\n",
    "score_test = []\n",
    "for n in range(1,max_estimators+1):\n",
    "    classifier = RandomForestClassifier(n_estimators = n, random_state = 0)\n",
    "    classifier.fit(X_train, Y_train)\n",
    "    score_train.append(classifier.score(X_train, Y_train))\n",
    "    score_test.append(classifier.score(X_test, Y_test))"
   ]
  },
  {
   "cell_type": "code",
   "execution_count": 90,
   "metadata": {},
   "outputs": [
    {
     "data": {
      "image/png": "[encoded data removed]",
      "text/plain": [
       "<Figure size 432x288 with 1 Axes>"
      ]
     },
     "metadata": {
      "needs_background": "light"
     },
     "output_type": "display_data"
    }
   ],
   "source": [
    "fs = 17\n",
    "plt.figure(figsize = (6,4))\n",
    "plt.subplots_adjust(bottom=0.15, left = 0.15)\n",
    "ax= plt.subplot()\n",
    "plt.plot(range(1, max_estimators+1), score_train, 'bo-', label = 'train data')\n",
    "plt.plot(range(1, max_estimators+1), score_test, 'ro-', label = 'test data')\n",
    "plt.plot([1, max_estimators+1], [1/12, 1/12], 'k--', label = 'chance level')\n",
    "plt.xlabel('# Estimators', fontsize = fs)\n",
    "plt.ylabel('Score', fontsize = fs)\n",
    "plt.xticks(fontsize=14)\n",
    "plt.yticks(fontsize=14)\n",
    "plt.ylim([0,1])\n",
    "plt.legend()\n",
    "#plt.show()\n",
    "plt.savefig(\"Score_RandomForest.png\")"
   ]
  },
  {
   "cell_type": "markdown",
   "metadata": {},
   "source": [
    "### Q4 (bonus): Is there a wage difference between the male and female users?"
   ]
  },
  {
   "cell_type": "code",
   "execution_count": 91,
   "metadata": {},
   "outputs": [],
   "source": [
    "f_income = profiles[profiles.sex == 'f'].income_clean/1000\n",
    "m_income = profiles[profiles.sex == 'm'].income_clean/1000"
   ]
  },
  {
   "cell_type": "code",
   "execution_count": 92,
   "metadata": {
    "scrolled": true
   },
   "outputs": [
    {
     "data": {
      "image/png": "[encoded data removed]",
      "text/plain": [
       "<Figure size 432x288 with 1 Axes>"
      ]
     },
     "metadata": {
      "needs_background": "light"
     },
     "output_type": "display_data"
    }
   ],
   "source": [
    "fs = 17\n",
    "plt.figure(figsize = (6,4))\n",
    "plt.subplots_adjust(bottom=0.15, left = 0.25)\n",
    "ax= plt.subplot()\n",
    "\n",
    "plt.hist(m_income, alpha = 0.5, bins = 100, label = 'm', density = True)\n",
    "plt.hist(f_income, alpha = 0.5, bins = 100, label = 'f', density = True)\n",
    "plt.xlim([0,200])\n",
    "plt.xlabel('Income (1000 $)', fontsize = fs)\n",
    "plt.ylabel('Count (density)', fontsize = fs)\n",
    "plt.legend()\n",
    "plt.xticks(fontsize=14)\n",
    "plt.yticks(fontsize=14)\n",
    "#plt.show()\n",
    "plt.savefig(\"Income_hist.png\")"
   ]
  },
  {
   "cell_type": "markdown",
   "metadata": {},
   "source": [
    "The plot above shows that a higher proportion of women have low salaries than men."
   ]
  },
  {
   "cell_type": "code",
   "execution_count": 93,
   "metadata": {
    "scrolled": true
   },
   "outputs": [
    {
     "data": {
      "image/png": "[encoded data removed]",
      "text/plain": [
       "<Figure size 432x288 with 1 Axes>"
      ]
     },
     "metadata": {
      "needs_background": "light"
     },
     "output_type": "display_data"
    }
   ],
   "source": [
    "fs = 17\n",
    "plt.figure(figsize = (6,4))\n",
    "plt.subplots_adjust(bottom=0.15, left = 0.15)\n",
    "ax= plt.subplot()\n",
    "\n",
    "g = sns.boxplot(x = 'sex', y = 'income_clean',data = profiles)\n",
    "plt.ylim([0,200000])\n",
    "plt.xlabel('Sex', fontsize = fs)\n",
    "plt.ylabel('Income ($)', fontsize = fs)\n",
    "ylabels = ['{:,.0f}'.format(x) + 'K' for x in g.get_yticks()/1000]\n",
    "g.set_yticklabels(ylabels)\n",
    "plt.xticks(fontsize=14)\n",
    "plt.yticks(fontsize=14)\n",
    "#plt.show()\n",
    "plt.savefig(\"Income_box.png\")\n"
   ]
  },
  {
   "cell_type": "code",
   "execution_count": 94,
   "metadata": {
    "scrolled": true
   },
   "outputs": [
    {
     "name": "stdout",
     "output_type": "stream",
     "text": [
      "Average salary earned by men:  110984.0 $\n",
      "Median salary earned by men:  60000.0 $\n"
     ]
    }
   ],
   "source": [
    "print('Average salary earned by men: ', np.round(profiles[profiles.sex == 'm'].income_clean.mean()), '$')\n",
    "print('Median salary earned by men: ', np.round(profiles[profiles.sex == 'm'].income_clean.median()), '$')"
   ]
  },
  {
   "cell_type": "code",
   "execution_count": 95,
   "metadata": {},
   "outputs": [
    {
     "name": "stdout",
     "output_type": "stream",
     "text": [
      "Average salary earned by women:  86633.0 $\n",
      "Median salary earned by women:  40000.0 $\n"
     ]
    }
   ],
   "source": [
    "print('Average salary earned by women: ', np.round(profiles[profiles.sex == 'f'].income_clean.mean()), '$')\n",
    "print('Median salary earned by women: ', np.round(profiles[profiles.sex == 'f'].income_clean.median()), '$')"
   ]
  },
  {
   "cell_type": "code",
   "execution_count": 96,
   "metadata": {},
   "outputs": [
    {
     "data": {
      "text/plain": [
       "Ttest_indResult(statistic=18.31604914544086, pvalue=9.864524873650853e-75)"
      ]
     },
     "execution_count": 96,
     "metadata": {},
     "output_type": "execute_result"
    }
   ],
   "source": [
    "import scipy.stats as stats\n",
    "stats.ttest_ind(profiles[profiles['sex'] == 'm']['income'].dropna(),\n",
    "                profiles[profiles['sex'] == 'f']['income'].dropna())"
   ]
  },
  {
   "cell_type": "markdown",
   "metadata": {},
   "source": [
    "A p-value smaller that 0.05 shows the difference between the average income earned by men vs women is significant."
   ]
  },
  {
   "cell_type": "code",
   "execution_count": null,
   "metadata": {},
   "outputs": [],
   "source": []
  }
 ],
 "metadata": {
  "kernelspec": {
   "display_name": "Python 3 (ipykernel)",
   "language": "python",
   "name": "python3"
  },
  "language_info": {
   "codemirror_mode": {
    "name": "ipython",
    "version": 3
   },
   "file_extension": ".py",
   "mimetype": "text/x-python",
   "name": "python",
   "nbconvert_exporter": "python",
   "pygments_lexer": "ipython3",
   "version": "3.9.12"
  }
 },
 "nbformat": 4,
 "nbformat_minor": 4
}
